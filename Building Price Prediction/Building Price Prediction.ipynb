{
    "cells": [
        {
            "cell_type": "markdown",
            "metadata": {},
            "source": [
                "# Building price Model"
            ]
        },
        {
            "cell_type": "code",
            "execution_count": 517,
            "metadata": {},
            "outputs": [],
            "source": [
                "import pandas as pd\n",
                "import numpy as np"
            ]
        },
        {
            "cell_type": "code",
            "execution_count": 518,
            "metadata": {},
            "outputs": [],
            "source": [
                "housing = pd.read_csv(\"housing.csv\")"
            ]
        },
        {
            "cell_type": "code",
            "execution_count": 519,
            "metadata": {},
            "outputs": [
                {
                    "data": {
                        "text/html": [
                            "<div>\n",
                            "<style scoped>\n",
                            "    .dataframe tbody tr th:only-of-type {\n",
                            "        vertical-align: middle;\n",
                            "    }\n",
                            "\n",
                            "    .dataframe tbody tr th {\n",
                            "        vertical-align: top;\n",
                            "    }\n",
                            "\n",
                            "    .dataframe thead th {\n",
                            "        text-align: right;\n",
                            "    }\n",
                            "</style>\n",
                            "<table border=\"1\" class=\"dataframe\">\n",
                            "  <thead>\n",
                            "    <tr style=\"text-align: right;\">\n",
                            "      <th></th>\n",
                            "      <th>CRIM</th>\n",
                            "      <th>ZN</th>\n",
                            "      <th>INDUS</th>\n",
                            "      <th>CHAS</th>\n",
                            "      <th>NOX</th>\n",
                            "      <th>RM</th>\n",
                            "      <th>AGE</th>\n",
                            "      <th>DIS</th>\n",
                            "      <th>RAD</th>\n",
                            "      <th>TAX</th>\n",
                            "      <th>PTRATIO</th>\n",
                            "      <th>B</th>\n",
                            "      <th>LSTAT</th>\n",
                            "      <th>MEDV</th>\n",
                            "    </tr>\n",
                            "  </thead>\n",
                            "  <tbody>\n",
                            "    <tr>\n",
                            "      <th>0</th>\n",
                            "      <td>0.00632</td>\n",
                            "      <td>18.0</td>\n",
                            "      <td>2.31</td>\n",
                            "      <td>0</td>\n",
                            "      <td>0.538</td>\n",
                            "      <td>6.575</td>\n",
                            "      <td>65.2</td>\n",
                            "      <td>4.0900</td>\n",
                            "      <td>1</td>\n",
                            "      <td>296</td>\n",
                            "      <td>15.3</td>\n",
                            "      <td>396.90</td>\n",
                            "      <td>4.98</td>\n",
                            "      <td>24.0</td>\n",
                            "    </tr>\n",
                            "    <tr>\n",
                            "      <th>1</th>\n",
                            "      <td>0.02731</td>\n",
                            "      <td>0.0</td>\n",
                            "      <td>7.07</td>\n",
                            "      <td>0</td>\n",
                            "      <td>0.469</td>\n",
                            "      <td>6.421</td>\n",
                            "      <td>78.9</td>\n",
                            "      <td>4.9671</td>\n",
                            "      <td>2</td>\n",
                            "      <td>242</td>\n",
                            "      <td>17.8</td>\n",
                            "      <td>396.90</td>\n",
                            "      <td>9.14</td>\n",
                            "      <td>21.6</td>\n",
                            "    </tr>\n",
                            "    <tr>\n",
                            "      <th>2</th>\n",
                            "      <td>0.02729</td>\n",
                            "      <td>0.0</td>\n",
                            "      <td>7.07</td>\n",
                            "      <td>0</td>\n",
                            "      <td>0.469</td>\n",
                            "      <td>7.185</td>\n",
                            "      <td>61.1</td>\n",
                            "      <td>4.9671</td>\n",
                            "      <td>2</td>\n",
                            "      <td>242</td>\n",
                            "      <td>17.8</td>\n",
                            "      <td>392.83</td>\n",
                            "      <td>4.03</td>\n",
                            "      <td>34.7</td>\n",
                            "    </tr>\n",
                            "    <tr>\n",
                            "      <th>3</th>\n",
                            "      <td>0.03237</td>\n",
                            "      <td>0.0</td>\n",
                            "      <td>2.18</td>\n",
                            "      <td>0</td>\n",
                            "      <td>0.458</td>\n",
                            "      <td>6.998</td>\n",
                            "      <td>45.8</td>\n",
                            "      <td>6.0622</td>\n",
                            "      <td>3</td>\n",
                            "      <td>222</td>\n",
                            "      <td>18.7</td>\n",
                            "      <td>394.63</td>\n",
                            "      <td>2.94</td>\n",
                            "      <td>33.4</td>\n",
                            "    </tr>\n",
                            "    <tr>\n",
                            "      <th>4</th>\n",
                            "      <td>0.06905</td>\n",
                            "      <td>0.0</td>\n",
                            "      <td>2.18</td>\n",
                            "      <td>0</td>\n",
                            "      <td>0.458</td>\n",
                            "      <td>7.147</td>\n",
                            "      <td>54.2</td>\n",
                            "      <td>6.0622</td>\n",
                            "      <td>3</td>\n",
                            "      <td>222</td>\n",
                            "      <td>18.7</td>\n",
                            "      <td>396.90</td>\n",
                            "      <td>5.33</td>\n",
                            "      <td>36.2</td>\n",
                            "    </tr>\n",
                            "  </tbody>\n",
                            "</table>\n",
                            "</div>"
                        ],
                        "text/plain": [
                            "      CRIM    ZN  INDUS  CHAS    NOX     RM   AGE     DIS  RAD  TAX  PTRATIO  \\\n",
                            "0  0.00632  18.0   2.31     0  0.538  6.575  65.2  4.0900    1  296     15.3   \n",
                            "1  0.02731   0.0   7.07     0  0.469  6.421  78.9  4.9671    2  242     17.8   \n",
                            "2  0.02729   0.0   7.07     0  0.469  7.185  61.1  4.9671    2  242     17.8   \n",
                            "3  0.03237   0.0   2.18     0  0.458  6.998  45.8  6.0622    3  222     18.7   \n",
                            "4  0.06905   0.0   2.18     0  0.458  7.147  54.2  6.0622    3  222     18.7   \n",
                            "\n",
                            "        B  LSTAT  MEDV  \n",
                            "0  396.90   4.98  24.0  \n",
                            "1  396.90   9.14  21.6  \n",
                            "2  392.83   4.03  34.7  \n",
                            "3  394.63   2.94  33.4  \n",
                            "4  396.90   5.33  36.2  "
                        ]
                    },
                    "execution_count": 519,
                    "metadata": {},
                    "output_type": "execute_result"
                }
            ],
            "source": [
                "housing.head()"
            ]
        },
        {
            "cell_type": "code",
            "execution_count": 520,
            "metadata": {},
            "outputs": [
                {
                    "name": "stdout",
                    "output_type": "stream",
                    "text": [
                        "<class 'pandas.core.frame.DataFrame'>\n",
                        "RangeIndex: 506 entries, 0 to 505\n",
                        "Data columns (total 14 columns):\n",
                        " #   Column   Non-Null Count  Dtype  \n",
                        "---  ------   --------------  -----  \n",
                        " 0   CRIM     506 non-null    float64\n",
                        " 1   ZN       506 non-null    float64\n",
                        " 2   INDUS    506 non-null    float64\n",
                        " 3   CHAS     506 non-null    int64  \n",
                        " 4   NOX      506 non-null    float64\n",
                        " 5   RM       506 non-null    float64\n",
                        " 6   AGE      506 non-null    float64\n",
                        " 7   DIS      506 non-null    float64\n",
                        " 8   RAD      506 non-null    int64  \n",
                        " 9   TAX      506 non-null    int64  \n",
                        " 10  PTRATIO  506 non-null    float64\n",
                        " 11  B        506 non-null    float64\n",
                        " 12  LSTAT    506 non-null    float64\n",
                        " 13  MEDV     506 non-null    float64\n",
                        "dtypes: float64(11), int64(3)\n",
                        "memory usage: 55.5 KB\n"
                    ]
                }
            ],
            "source": [
                "housing.info()"
            ]
        },
        {
            "cell_type": "markdown",
            "metadata": {},
            "source": [
                "used to find missing data"
            ]
        },
        {
            "cell_type": "code",
            "execution_count": 521,
            "metadata": {},
            "outputs": [
                {
                    "data": {
                        "text/plain": [
                            "0      0\n",
                            "1      0\n",
                            "2      0\n",
                            "3      0\n",
                            "4      0\n",
                            "      ..\n",
                            "501    0\n",
                            "502    0\n",
                            "503    0\n",
                            "504    0\n",
                            "505    0\n",
                            "Name: CHAS, Length: 506, dtype: int64"
                        ]
                    },
                    "execution_count": 521,
                    "metadata": {},
                    "output_type": "execute_result"
                }
            ],
            "source": [
                "housing['CHAS']"
            ]
        },
        {
            "cell_type": "code",
            "execution_count": 522,
            "metadata": {},
            "outputs": [
                {
                    "data": {
                        "text/plain": [
                            "0    471\n",
                            "1     35\n",
                            "Name: CHAS, dtype: int64"
                        ]
                    },
                    "execution_count": 522,
                    "metadata": {},
                    "output_type": "execute_result"
                }
            ],
            "source": [
                "housing['CHAS'].value_counts()"
            ]
        },
        {
            "cell_type": "code",
            "execution_count": 523,
            "metadata": {},
            "outputs": [
                {
                    "data": {
                        "text/html": [
                            "<div>\n",
                            "<style scoped>\n",
                            "    .dataframe tbody tr th:only-of-type {\n",
                            "        vertical-align: middle;\n",
                            "    }\n",
                            "\n",
                            "    .dataframe tbody tr th {\n",
                            "        vertical-align: top;\n",
                            "    }\n",
                            "\n",
                            "    .dataframe thead th {\n",
                            "        text-align: right;\n",
                            "    }\n",
                            "</style>\n",
                            "<table border=\"1\" class=\"dataframe\">\n",
                            "  <thead>\n",
                            "    <tr style=\"text-align: right;\">\n",
                            "      <th></th>\n",
                            "      <th>CRIM</th>\n",
                            "      <th>ZN</th>\n",
                            "      <th>INDUS</th>\n",
                            "      <th>CHAS</th>\n",
                            "      <th>NOX</th>\n",
                            "      <th>RM</th>\n",
                            "      <th>AGE</th>\n",
                            "      <th>DIS</th>\n",
                            "      <th>RAD</th>\n",
                            "      <th>TAX</th>\n",
                            "      <th>PTRATIO</th>\n",
                            "      <th>B</th>\n",
                            "      <th>LSTAT</th>\n",
                            "      <th>MEDV</th>\n",
                            "    </tr>\n",
                            "  </thead>\n",
                            "  <tbody>\n",
                            "    <tr>\n",
                            "      <th>count</th>\n",
                            "      <td>506.000000</td>\n",
                            "      <td>506.000000</td>\n",
                            "      <td>506.000000</td>\n",
                            "      <td>506.000000</td>\n",
                            "      <td>506.000000</td>\n",
                            "      <td>506.000000</td>\n",
                            "      <td>506.000000</td>\n",
                            "      <td>506.000000</td>\n",
                            "      <td>506.000000</td>\n",
                            "      <td>506.000000</td>\n",
                            "      <td>506.000000</td>\n",
                            "      <td>506.000000</td>\n",
                            "      <td>506.000000</td>\n",
                            "      <td>506.000000</td>\n",
                            "    </tr>\n",
                            "    <tr>\n",
                            "      <th>mean</th>\n",
                            "      <td>3.613524</td>\n",
                            "      <td>11.363636</td>\n",
                            "      <td>11.136779</td>\n",
                            "      <td>0.069170</td>\n",
                            "      <td>0.554695</td>\n",
                            "      <td>6.284634</td>\n",
                            "      <td>68.574901</td>\n",
                            "      <td>3.795043</td>\n",
                            "      <td>9.549407</td>\n",
                            "      <td>408.237154</td>\n",
                            "      <td>18.455534</td>\n",
                            "      <td>356.674032</td>\n",
                            "      <td>12.653063</td>\n",
                            "      <td>22.532806</td>\n",
                            "    </tr>\n",
                            "    <tr>\n",
                            "      <th>std</th>\n",
                            "      <td>8.601545</td>\n",
                            "      <td>23.322453</td>\n",
                            "      <td>6.860353</td>\n",
                            "      <td>0.253994</td>\n",
                            "      <td>0.115878</td>\n",
                            "      <td>0.702617</td>\n",
                            "      <td>28.148861</td>\n",
                            "      <td>2.105710</td>\n",
                            "      <td>8.707259</td>\n",
                            "      <td>168.537116</td>\n",
                            "      <td>2.164946</td>\n",
                            "      <td>91.294864</td>\n",
                            "      <td>7.141062</td>\n",
                            "      <td>9.197104</td>\n",
                            "    </tr>\n",
                            "    <tr>\n",
                            "      <th>min</th>\n",
                            "      <td>0.006320</td>\n",
                            "      <td>0.000000</td>\n",
                            "      <td>0.460000</td>\n",
                            "      <td>0.000000</td>\n",
                            "      <td>0.385000</td>\n",
                            "      <td>3.561000</td>\n",
                            "      <td>2.900000</td>\n",
                            "      <td>1.129600</td>\n",
                            "      <td>1.000000</td>\n",
                            "      <td>187.000000</td>\n",
                            "      <td>12.600000</td>\n",
                            "      <td>0.320000</td>\n",
                            "      <td>1.730000</td>\n",
                            "      <td>5.000000</td>\n",
                            "    </tr>\n",
                            "    <tr>\n",
                            "      <th>25%</th>\n",
                            "      <td>0.082045</td>\n",
                            "      <td>0.000000</td>\n",
                            "      <td>5.190000</td>\n",
                            "      <td>0.000000</td>\n",
                            "      <td>0.449000</td>\n",
                            "      <td>5.885500</td>\n",
                            "      <td>45.025000</td>\n",
                            "      <td>2.100175</td>\n",
                            "      <td>4.000000</td>\n",
                            "      <td>279.000000</td>\n",
                            "      <td>17.400000</td>\n",
                            "      <td>375.377500</td>\n",
                            "      <td>6.950000</td>\n",
                            "      <td>17.025000</td>\n",
                            "    </tr>\n",
                            "    <tr>\n",
                            "      <th>50%</th>\n",
                            "      <td>0.256510</td>\n",
                            "      <td>0.000000</td>\n",
                            "      <td>9.690000</td>\n",
                            "      <td>0.000000</td>\n",
                            "      <td>0.538000</td>\n",
                            "      <td>6.208500</td>\n",
                            "      <td>77.500000</td>\n",
                            "      <td>3.207450</td>\n",
                            "      <td>5.000000</td>\n",
                            "      <td>330.000000</td>\n",
                            "      <td>19.050000</td>\n",
                            "      <td>391.440000</td>\n",
                            "      <td>11.360000</td>\n",
                            "      <td>21.200000</td>\n",
                            "    </tr>\n",
                            "    <tr>\n",
                            "      <th>75%</th>\n",
                            "      <td>3.677083</td>\n",
                            "      <td>12.500000</td>\n",
                            "      <td>18.100000</td>\n",
                            "      <td>0.000000</td>\n",
                            "      <td>0.624000</td>\n",
                            "      <td>6.623500</td>\n",
                            "      <td>94.075000</td>\n",
                            "      <td>5.188425</td>\n",
                            "      <td>24.000000</td>\n",
                            "      <td>666.000000</td>\n",
                            "      <td>20.200000</td>\n",
                            "      <td>396.225000</td>\n",
                            "      <td>16.955000</td>\n",
                            "      <td>25.000000</td>\n",
                            "    </tr>\n",
                            "    <tr>\n",
                            "      <th>max</th>\n",
                            "      <td>88.976200</td>\n",
                            "      <td>100.000000</td>\n",
                            "      <td>27.740000</td>\n",
                            "      <td>1.000000</td>\n",
                            "      <td>0.871000</td>\n",
                            "      <td>8.780000</td>\n",
                            "      <td>100.000000</td>\n",
                            "      <td>12.126500</td>\n",
                            "      <td>24.000000</td>\n",
                            "      <td>711.000000</td>\n",
                            "      <td>22.000000</td>\n",
                            "      <td>396.900000</td>\n",
                            "      <td>37.970000</td>\n",
                            "      <td>50.000000</td>\n",
                            "    </tr>\n",
                            "  </tbody>\n",
                            "</table>\n",
                            "</div>"
                        ],
                        "text/plain": [
                            "             CRIM          ZN       INDUS        CHAS         NOX          RM  \\\n",
                            "count  506.000000  506.000000  506.000000  506.000000  506.000000  506.000000   \n",
                            "mean     3.613524   11.363636   11.136779    0.069170    0.554695    6.284634   \n",
                            "std      8.601545   23.322453    6.860353    0.253994    0.115878    0.702617   \n",
                            "min      0.006320    0.000000    0.460000    0.000000    0.385000    3.561000   \n",
                            "25%      0.082045    0.000000    5.190000    0.000000    0.449000    5.885500   \n",
                            "50%      0.256510    0.000000    9.690000    0.000000    0.538000    6.208500   \n",
                            "75%      3.677083   12.500000   18.100000    0.000000    0.624000    6.623500   \n",
                            "max     88.976200  100.000000   27.740000    1.000000    0.871000    8.780000   \n",
                            "\n",
                            "              AGE         DIS         RAD         TAX     PTRATIO           B  \\\n",
                            "count  506.000000  506.000000  506.000000  506.000000  506.000000  506.000000   \n",
                            "mean    68.574901    3.795043    9.549407  408.237154   18.455534  356.674032   \n",
                            "std     28.148861    2.105710    8.707259  168.537116    2.164946   91.294864   \n",
                            "min      2.900000    1.129600    1.000000  187.000000   12.600000    0.320000   \n",
                            "25%     45.025000    2.100175    4.000000  279.000000   17.400000  375.377500   \n",
                            "50%     77.500000    3.207450    5.000000  330.000000   19.050000  391.440000   \n",
                            "75%     94.075000    5.188425   24.000000  666.000000   20.200000  396.225000   \n",
                            "max    100.000000   12.126500   24.000000  711.000000   22.000000  396.900000   \n",
                            "\n",
                            "            LSTAT        MEDV  \n",
                            "count  506.000000  506.000000  \n",
                            "mean    12.653063   22.532806  \n",
                            "std      7.141062    9.197104  \n",
                            "min      1.730000    5.000000  \n",
                            "25%      6.950000   17.025000  \n",
                            "50%     11.360000   21.200000  \n",
                            "75%     16.955000   25.000000  \n",
                            "max     37.970000   50.000000  "
                        ]
                    },
                    "execution_count": 523,
                    "metadata": {},
                    "output_type": "execute_result"
                }
            ],
            "source": [
                "housing.describe()"
            ]
        },
        {
            "cell_type": "code",
            "execution_count": 524,
            "metadata": {},
            "outputs": [],
            "source": [
                "%matplotlib inline"
            ]
        },
        {
            "cell_type": "code",
            "execution_count": 525,
            "metadata": {},
            "outputs": [],
            "source": [
                "import matplotlib.pyplot as pyplot\n"
            ]
        },
        {
            "cell_type": "code",
            "execution_count": 526,
            "metadata": {},
            "outputs": [
                {
                    "data": {
                        "text/plain": [
                            "array([[<AxesSubplot:title={'center':'CRIM'}>,\n",
                            "        <AxesSubplot:title={'center':'ZN'}>,\n",
                            "        <AxesSubplot:title={'center':'INDUS'}>,\n",
                            "        <AxesSubplot:title={'center':'CHAS'}>],\n",
                            "       [<AxesSubplot:title={'center':'NOX'}>,\n",
                            "        <AxesSubplot:title={'center':'RM'}>,\n",
                            "        <AxesSubplot:title={'center':'AGE'}>,\n",
                            "        <AxesSubplot:title={'center':'DIS'}>],\n",
                            "       [<AxesSubplot:title={'center':'RAD'}>,\n",
                            "        <AxesSubplot:title={'center':'TAX'}>,\n",
                            "        <AxesSubplot:title={'center':'PTRATIO'}>,\n",
                            "        <AxesSubplot:title={'center':'B'}>],\n",
                            "       [<AxesSubplot:title={'center':'LSTAT'}>,\n",
                            "        <AxesSubplot:title={'center':'MEDV'}>, <AxesSubplot:>,\n",
                            "        <AxesSubplot:>]], dtype=object)"
                        ]
                    },
                    "execution_count": 526,
                    "metadata": {},
                    "output_type": "execute_result"
                },
                {
                    "data": {
                        "image/png": "[encoded data removed]",
                        "text/plain": [
                            "<Figure size 1440x1080 with 16 Axes>"
                        ]
                    },
                    "metadata": {
                        "needs_background": "light"
                    },
                    "output_type": "display_data"
                }
            ],
            "source": [
                "housing.hist(bins=50, figsize=(20,15))\n",
                "# bins is for width of the bars plotted in the histogram"
            ]
        },
        {
            "cell_type": "markdown",
            "metadata": {},
            "source": [
                "# Train - test split manual"
            ]
        },
        {
            "cell_type": "code",
            "execution_count": 527,
            "metadata": {},
            "outputs": [],
            "source": [
                "np.random.seed(1)\n",
                "def split_train_test(data,test_ratio):\n",
                "    shuffled = np.random.permutation(len(data))\n",
                "    test_set_size = int(len(data) * test_ratio)\n",
                "    test_indices = shuffled[:test_set_size]\n",
                "    train_indices = shuffled[test_set_size:]\n",
                "    return data.iloc[train_indices], data.iloc[test_indices]"
            ]
        },
        {
            "cell_type": "code",
            "execution_count": 528,
            "metadata": {},
            "outputs": [],
            "source": [
                "train_set, test_set = split_train_test(housing,0.2)"
            ]
        },
        {
            "cell_type": "code",
            "execution_count": 529,
            "metadata": {},
            "outputs": [
                {
                    "name": "stdout",
                    "output_type": "stream",
                    "text": [
                        "Rows in train set: 405\n",
                        "Rows in test set: 101\n"
                    ]
                }
            ],
            "source": [
                "print(f\"Rows in train set: {len(train_set)}\\nRows in test set: {len(test_set)}\")"
            ]
        },
        {
            "cell_type": "markdown",
            "metadata": {},
            "source": [
                "## Train_test_split using sklearn inbuild library"
            ]
        },
        {
            "cell_type": "code",
            "execution_count": 530,
            "metadata": {},
            "outputs": [
                {
                    "name": "stdout",
                    "output_type": "stream",
                    "text": [
                        "Rows in train set: 404\n",
                        "Rows in test set: 102\n"
                    ]
                }
            ],
            "source": [
                "from sklearn.model_selection import train_test_split\n",
                "train_set, test_set = train_test_split(housing, test_size = 0.2, random_state = 1)\n",
                "print(f\"Rows in train set: {len(train_set)}\\nRows in test set: {len(test_set)}\")"
            ]
        },
        {
            "cell_type": "markdown",
            "metadata": {},
            "source": [
                "making chas available in train and test"
            ]
        },
        {
            "cell_type": "code",
            "execution_count": 531,
            "metadata": {},
            "outputs": [],
            "source": [
                "from sklearn.model_selection import StratifiedShuffleSplit\n",
                "split = StratifiedShuffleSplit(n_splits = 1, test_size=0.2, random_state = 1)\n",
                "#print(split.split(housing, housing['CHAS']))\n",
                "for train_index, test_index in split.split(housing, housing['CHAS']):\n",
                "    strat_train_set = housing.loc[train_index]\n",
                "    strat_test_set = housing.loc[test_index]"
            ]
        },
        {
            "cell_type": "code",
            "execution_count": 532,
            "metadata": {},
            "outputs": [
                {
                    "data": {
                        "text/html": [
                            "<div>\n",
                            "<style scoped>\n",
                            "    .dataframe tbody tr th:only-of-type {\n",
                            "        vertical-align: middle;\n",
                            "    }\n",
                            "\n",
                            "    .dataframe tbody tr th {\n",
                            "        vertical-align: top;\n",
                            "    }\n",
                            "\n",
                            "    .dataframe thead th {\n",
                            "        text-align: right;\n",
                            "    }\n",
                            "</style>\n",
                            "<table border=\"1\" class=\"dataframe\">\n",
                            "  <thead>\n",
                            "    <tr style=\"text-align: right;\">\n",
                            "      <th></th>\n",
                            "      <th>CRIM</th>\n",
                            "      <th>ZN</th>\n",
                            "      <th>INDUS</th>\n",
                            "      <th>CHAS</th>\n",
                            "      <th>NOX</th>\n",
                            "      <th>RM</th>\n",
                            "      <th>AGE</th>\n",
                            "      <th>DIS</th>\n",
                            "      <th>RAD</th>\n",
                            "      <th>TAX</th>\n",
                            "      <th>PTRATIO</th>\n",
                            "      <th>B</th>\n",
                            "      <th>LSTAT</th>\n",
                            "      <th>MEDV</th>\n",
                            "    </tr>\n",
                            "  </thead>\n",
                            "  <tbody>\n",
                            "    <tr>\n",
                            "      <th>count</th>\n",
                            "      <td>102.000000</td>\n",
                            "      <td>102.000000</td>\n",
                            "      <td>102.000000</td>\n",
                            "      <td>102.000000</td>\n",
                            "      <td>102.000000</td>\n",
                            "      <td>102.000000</td>\n",
                            "      <td>102.000000</td>\n",
                            "      <td>102.000000</td>\n",
                            "      <td>102.000000</td>\n",
                            "      <td>102.000000</td>\n",
                            "      <td>102.000000</td>\n",
                            "      <td>102.000000</td>\n",
                            "      <td>102.000000</td>\n",
                            "      <td>102.000000</td>\n",
                            "    </tr>\n",
                            "    <tr>\n",
                            "      <th>mean</th>\n",
                            "      <td>3.312893</td>\n",
                            "      <td>9.000000</td>\n",
                            "      <td>11.530686</td>\n",
                            "      <td>0.068627</td>\n",
                            "      <td>0.560304</td>\n",
                            "      <td>6.248725</td>\n",
                            "      <td>71.148039</td>\n",
                            "      <td>3.511365</td>\n",
                            "      <td>9.519608</td>\n",
                            "      <td>401.205882</td>\n",
                            "      <td>18.457843</td>\n",
                            "      <td>346.418137</td>\n",
                            "      <td>13.109118</td>\n",
                            "      <td>22.764706</td>\n",
                            "    </tr>\n",
                            "    <tr>\n",
                            "      <th>std</th>\n",
                            "      <td>6.278366</td>\n",
                            "      <td>20.566723</td>\n",
                            "      <td>6.889082</td>\n",
                            "      <td>0.254068</td>\n",
                            "      <td>0.113186</td>\n",
                            "      <td>0.777279</td>\n",
                            "      <td>26.373455</td>\n",
                            "      <td>1.837919</td>\n",
                            "      <td>8.605467</td>\n",
                            "      <td>171.484280</td>\n",
                            "      <td>2.196732</td>\n",
                            "      <td>106.049950</td>\n",
                            "      <td>7.469183</td>\n",
                            "      <td>10.209398</td>\n",
                            "    </tr>\n",
                            "    <tr>\n",
                            "      <th>min</th>\n",
                            "      <td>0.019510</td>\n",
                            "      <td>0.000000</td>\n",
                            "      <td>1.380000</td>\n",
                            "      <td>0.000000</td>\n",
                            "      <td>0.392000</td>\n",
                            "      <td>3.863000</td>\n",
                            "      <td>6.500000</td>\n",
                            "      <td>1.178100</td>\n",
                            "      <td>1.000000</td>\n",
                            "      <td>188.000000</td>\n",
                            "      <td>13.000000</td>\n",
                            "      <td>7.680000</td>\n",
                            "      <td>1.730000</td>\n",
                            "      <td>7.400000</td>\n",
                            "    </tr>\n",
                            "    <tr>\n",
                            "      <th>25%</th>\n",
                            "      <td>0.092845</td>\n",
                            "      <td>0.000000</td>\n",
                            "      <td>5.695000</td>\n",
                            "      <td>0.000000</td>\n",
                            "      <td>0.469750</td>\n",
                            "      <td>5.856500</td>\n",
                            "      <td>52.725000</td>\n",
                            "      <td>1.967900</td>\n",
                            "      <td>4.000000</td>\n",
                            "      <td>267.000000</td>\n",
                            "      <td>17.400000</td>\n",
                            "      <td>370.685000</td>\n",
                            "      <td>7.402500</td>\n",
                            "      <td>15.400000</td>\n",
                            "    </tr>\n",
                            "    <tr>\n",
                            "      <th>50%</th>\n",
                            "      <td>0.340460</td>\n",
                            "      <td>0.000000</td>\n",
                            "      <td>9.795000</td>\n",
                            "      <td>0.000000</td>\n",
                            "      <td>0.538000</td>\n",
                            "      <td>6.147000</td>\n",
                            "      <td>79.300000</td>\n",
                            "      <td>3.003800</td>\n",
                            "      <td>5.000000</td>\n",
                            "      <td>322.000000</td>\n",
                            "      <td>19.050000</td>\n",
                            "      <td>390.705000</td>\n",
                            "      <td>11.990000</td>\n",
                            "      <td>21.300000</td>\n",
                            "    </tr>\n",
                            "    <tr>\n",
                            "      <th>75%</th>\n",
                            "      <td>2.808720</td>\n",
                            "      <td>0.000000</td>\n",
                            "      <td>18.100000</td>\n",
                            "      <td>0.000000</td>\n",
                            "      <td>0.629250</td>\n",
                            "      <td>6.760500</td>\n",
                            "      <td>93.275000</td>\n",
                            "      <td>4.691525</td>\n",
                            "      <td>20.000000</td>\n",
                            "      <td>666.000000</td>\n",
                            "      <td>20.200000</td>\n",
                            "      <td>396.900000</td>\n",
                            "      <td>17.850000</td>\n",
                            "      <td>27.075000</td>\n",
                            "    </tr>\n",
                            "    <tr>\n",
                            "      <th>max</th>\n",
                            "      <td>37.661900</td>\n",
                            "      <td>95.000000</td>\n",
                            "      <td>27.740000</td>\n",
                            "      <td>1.000000</td>\n",
                            "      <td>0.871000</td>\n",
                            "      <td>8.704000</td>\n",
                            "      <td>100.000000</td>\n",
                            "      <td>9.222900</td>\n",
                            "      <td>24.000000</td>\n",
                            "      <td>711.000000</td>\n",
                            "      <td>21.200000</td>\n",
                            "      <td>396.900000</td>\n",
                            "      <td>34.410000</td>\n",
                            "      <td>50.000000</td>\n",
                            "    </tr>\n",
                            "  </tbody>\n",
                            "</table>\n",
                            "</div>"
                        ],
                        "text/plain": [
                            "             CRIM          ZN       INDUS        CHAS         NOX          RM  \\\n",
                            "count  102.000000  102.000000  102.000000  102.000000  102.000000  102.000000   \n",
                            "mean     3.312893    9.000000   11.530686    0.068627    0.560304    6.248725   \n",
                            "std      6.278366   20.566723    6.889082    0.254068    0.113186    0.777279   \n",
                            "min      0.019510    0.000000    1.380000    0.000000    0.392000    3.863000   \n",
                            "25%      0.092845    0.000000    5.695000    0.000000    0.469750    5.856500   \n",
                            "50%      0.340460    0.000000    9.795000    0.000000    0.538000    6.147000   \n",
                            "75%      2.808720    0.000000   18.100000    0.000000    0.629250    6.760500   \n",
                            "max     37.661900   95.000000   27.740000    1.000000    0.871000    8.704000   \n",
                            "\n",
                            "              AGE         DIS         RAD         TAX     PTRATIO           B  \\\n",
                            "count  102.000000  102.000000  102.000000  102.000000  102.000000  102.000000   \n",
                            "mean    71.148039    3.511365    9.519608  401.205882   18.457843  346.418137   \n",
                            "std     26.373455    1.837919    8.605467  171.484280    2.196732  106.049950   \n",
                            "min      6.500000    1.178100    1.000000  188.000000   13.000000    7.680000   \n",
                            "25%     52.725000    1.967900    4.000000  267.000000   17.400000  370.685000   \n",
                            "50%     79.300000    3.003800    5.000000  322.000000   19.050000  390.705000   \n",
                            "75%     93.275000    4.691525   20.000000  666.000000   20.200000  396.900000   \n",
                            "max    100.000000    9.222900   24.000000  711.000000   21.200000  396.900000   \n",
                            "\n",
                            "            LSTAT        MEDV  \n",
                            "count  102.000000  102.000000  \n",
                            "mean    13.109118   22.764706  \n",
                            "std      7.469183   10.209398  \n",
                            "min      1.730000    7.400000  \n",
                            "25%      7.402500   15.400000  \n",
                            "50%     11.990000   21.300000  \n",
                            "75%     17.850000   27.075000  \n",
                            "max     34.410000   50.000000  "
                        ]
                    },
                    "execution_count": 532,
                    "metadata": {},
                    "output_type": "execute_result"
                }
            ],
            "source": [
                "# strat_train_set\n",
                "# strat_test_set\n",
                "strat_test_set.describe()"
            ]
        },
        {
            "cell_type": "code",
            "execution_count": 533,
            "metadata": {},
            "outputs": [
                {
                    "name": "stdout",
                    "output_type": "stream",
                    "text": [
                        "<class 'pandas.core.frame.DataFrame'>\n",
                        "Int64Index: 102 entries, 109 to 261\n",
                        "Data columns (total 14 columns):\n",
                        " #   Column   Non-Null Count  Dtype  \n",
                        "---  ------   --------------  -----  \n",
                        " 0   CRIM     102 non-null    float64\n",
                        " 1   ZN       102 non-null    float64\n",
                        " 2   INDUS    102 non-null    float64\n",
                        " 3   CHAS     102 non-null    int64  \n",
                        " 4   NOX      102 non-null    float64\n",
                        " 5   RM       102 non-null    float64\n",
                        " 6   AGE      102 non-null    float64\n",
                        " 7   DIS      102 non-null    float64\n",
                        " 8   RAD      102 non-null    int64  \n",
                        " 9   TAX      102 non-null    int64  \n",
                        " 10  PTRATIO  102 non-null    float64\n",
                        " 11  B        102 non-null    float64\n",
                        " 12  LSTAT    102 non-null    float64\n",
                        " 13  MEDV     102 non-null    float64\n",
                        "dtypes: float64(11), int64(3)\n",
                        "memory usage: 12.0 KB\n"
                    ]
                }
            ],
            "source": [
                "strat_test_set.info()"
            ]
        },
        {
            "cell_type": "code",
            "execution_count": 534,
            "metadata": {},
            "outputs": [
                {
                    "data": {
                        "text/plain": [
                            "0    95\n",
                            "1     7\n",
                            "Name: CHAS, dtype: int64"
                        ]
                    },
                    "execution_count": 534,
                    "metadata": {},
                    "output_type": "execute_result"
                }
            ],
            "source": [
                "strat_test_set['CHAS'].value_counts()"
            ]
        },
        {
            "cell_type": "code",
            "execution_count": 535,
            "metadata": {},
            "outputs": [
                {
                    "data": {
                        "text/plain": [
                            "0    376\n",
                            "1     28\n",
                            "Name: CHAS, dtype: int64"
                        ]
                    },
                    "execution_count": 535,
                    "metadata": {},
                    "output_type": "execute_result"
                }
            ],
            "source": [
                "strat_train_set['CHAS'].value_counts()"
            ]
        },
        {
            "cell_type": "markdown",
            "metadata": {},
            "source": [
                "# Looking for correlaitions"
            ]
        },
        {
            "cell_type": "code",
            "execution_count": 536,
            "metadata": {},
            "outputs": [],
            "source": [
                "corr_matrix = housing.corr()"
            ]
        },
        {
            "cell_type": "code",
            "execution_count": 537,
            "metadata": {},
            "outputs": [
                {
                    "data": {
                        "text/html": [
                            "<div>\n",
                            "<style scoped>\n",
                            "    .dataframe tbody tr th:only-of-type {\n",
                            "        vertical-align: middle;\n",
                            "    }\n",
                            "\n",
                            "    .dataframe tbody tr th {\n",
                            "        vertical-align: top;\n",
                            "    }\n",
                            "\n",
                            "    .dataframe thead th {\n",
                            "        text-align: right;\n",
                            "    }\n",
                            "</style>\n",
                            "<table border=\"1\" class=\"dataframe\">\n",
                            "  <thead>\n",
                            "    <tr style=\"text-align: right;\">\n",
                            "      <th></th>\n",
                            "      <th>CRIM</th>\n",
                            "      <th>ZN</th>\n",
                            "      <th>INDUS</th>\n",
                            "      <th>CHAS</th>\n",
                            "      <th>NOX</th>\n",
                            "      <th>RM</th>\n",
                            "      <th>AGE</th>\n",
                            "      <th>DIS</th>\n",
                            "      <th>RAD</th>\n",
                            "      <th>TAX</th>\n",
                            "      <th>PTRATIO</th>\n",
                            "      <th>B</th>\n",
                            "      <th>LSTAT</th>\n",
                            "      <th>MEDV</th>\n",
                            "    </tr>\n",
                            "  </thead>\n",
                            "  <tbody>\n",
                            "    <tr>\n",
                            "      <th>CRIM</th>\n",
                            "      <td>1.000000</td>\n",
                            "      <td>-0.200469</td>\n",
                            "      <td>0.406583</td>\n",
                            "      <td>-0.055892</td>\n",
                            "      <td>0.420972</td>\n",
                            "      <td>-0.219247</td>\n",
                            "      <td>0.352734</td>\n",
                            "      <td>-0.379670</td>\n",
                            "      <td>0.625505</td>\n",
                            "      <td>0.582764</td>\n",
                            "      <td>0.289946</td>\n",
                            "      <td>-0.385064</td>\n",
                            "      <td>0.455621</td>\n",
                            "      <td>-0.388305</td>\n",
                            "    </tr>\n",
                            "    <tr>\n",
                            "      <th>ZN</th>\n",
                            "      <td>-0.200469</td>\n",
                            "      <td>1.000000</td>\n",
                            "      <td>-0.533828</td>\n",
                            "      <td>-0.042697</td>\n",
                            "      <td>-0.516604</td>\n",
                            "      <td>0.311991</td>\n",
                            "      <td>-0.569537</td>\n",
                            "      <td>0.664408</td>\n",
                            "      <td>-0.311948</td>\n",
                            "      <td>-0.314563</td>\n",
                            "      <td>-0.391679</td>\n",
                            "      <td>0.175520</td>\n",
                            "      <td>-0.412995</td>\n",
                            "      <td>0.360445</td>\n",
                            "    </tr>\n",
                            "    <tr>\n",
                            "      <th>INDUS</th>\n",
                            "      <td>0.406583</td>\n",
                            "      <td>-0.533828</td>\n",
                            "      <td>1.000000</td>\n",
                            "      <td>0.062938</td>\n",
                            "      <td>0.763651</td>\n",
                            "      <td>-0.391676</td>\n",
                            "      <td>0.644779</td>\n",
                            "      <td>-0.708027</td>\n",
                            "      <td>0.595129</td>\n",
                            "      <td>0.720760</td>\n",
                            "      <td>0.383248</td>\n",
                            "      <td>-0.356977</td>\n",
                            "      <td>0.603800</td>\n",
                            "      <td>-0.483725</td>\n",
                            "    </tr>\n",
                            "    <tr>\n",
                            "      <th>CHAS</th>\n",
                            "      <td>-0.055892</td>\n",
                            "      <td>-0.042697</td>\n",
                            "      <td>0.062938</td>\n",
                            "      <td>1.000000</td>\n",
                            "      <td>0.091203</td>\n",
                            "      <td>0.091251</td>\n",
                            "      <td>0.086518</td>\n",
                            "      <td>-0.099176</td>\n",
                            "      <td>-0.007368</td>\n",
                            "      <td>-0.035587</td>\n",
                            "      <td>-0.121515</td>\n",
                            "      <td>0.048788</td>\n",
                            "      <td>-0.053929</td>\n",
                            "      <td>0.175260</td>\n",
                            "    </tr>\n",
                            "    <tr>\n",
                            "      <th>NOX</th>\n",
                            "      <td>0.420972</td>\n",
                            "      <td>-0.516604</td>\n",
                            "      <td>0.763651</td>\n",
                            "      <td>0.091203</td>\n",
                            "      <td>1.000000</td>\n",
                            "      <td>-0.302188</td>\n",
                            "      <td>0.731470</td>\n",
                            "      <td>-0.769230</td>\n",
                            "      <td>0.611441</td>\n",
                            "      <td>0.668023</td>\n",
                            "      <td>0.188933</td>\n",
                            "      <td>-0.380051</td>\n",
                            "      <td>0.590879</td>\n",
                            "      <td>-0.427321</td>\n",
                            "    </tr>\n",
                            "    <tr>\n",
                            "      <th>RM</th>\n",
                            "      <td>-0.219247</td>\n",
                            "      <td>0.311991</td>\n",
                            "      <td>-0.391676</td>\n",
                            "      <td>0.091251</td>\n",
                            "      <td>-0.302188</td>\n",
                            "      <td>1.000000</td>\n",
                            "      <td>-0.240265</td>\n",
                            "      <td>0.205246</td>\n",
                            "      <td>-0.209847</td>\n",
                            "      <td>-0.292048</td>\n",
                            "      <td>-0.355501</td>\n",
                            "      <td>0.128069</td>\n",
                            "      <td>-0.613808</td>\n",
                            "      <td>0.695360</td>\n",
                            "    </tr>\n",
                            "    <tr>\n",
                            "      <th>AGE</th>\n",
                            "      <td>0.352734</td>\n",
                            "      <td>-0.569537</td>\n",
                            "      <td>0.644779</td>\n",
                            "      <td>0.086518</td>\n",
                            "      <td>0.731470</td>\n",
                            "      <td>-0.240265</td>\n",
                            "      <td>1.000000</td>\n",
                            "      <td>-0.747881</td>\n",
                            "      <td>0.456022</td>\n",
                            "      <td>0.506456</td>\n",
                            "      <td>0.261515</td>\n",
                            "      <td>-0.273534</td>\n",
                            "      <td>0.602339</td>\n",
                            "      <td>-0.376955</td>\n",
                            "    </tr>\n",
                            "    <tr>\n",
                            "      <th>DIS</th>\n",
                            "      <td>-0.379670</td>\n",
                            "      <td>0.664408</td>\n",
                            "      <td>-0.708027</td>\n",
                            "      <td>-0.099176</td>\n",
                            "      <td>-0.769230</td>\n",
                            "      <td>0.205246</td>\n",
                            "      <td>-0.747881</td>\n",
                            "      <td>1.000000</td>\n",
                            "      <td>-0.494588</td>\n",
                            "      <td>-0.534432</td>\n",
                            "      <td>-0.232471</td>\n",
                            "      <td>0.291512</td>\n",
                            "      <td>-0.496996</td>\n",
                            "      <td>0.249929</td>\n",
                            "    </tr>\n",
                            "    <tr>\n",
                            "      <th>RAD</th>\n",
                            "      <td>0.625505</td>\n",
                            "      <td>-0.311948</td>\n",
                            "      <td>0.595129</td>\n",
                            "      <td>-0.007368</td>\n",
                            "      <td>0.611441</td>\n",
                            "      <td>-0.209847</td>\n",
                            "      <td>0.456022</td>\n",
                            "      <td>-0.494588</td>\n",
                            "      <td>1.000000</td>\n",
                            "      <td>0.910228</td>\n",
                            "      <td>0.464741</td>\n",
                            "      <td>-0.444413</td>\n",
                            "      <td>0.488676</td>\n",
                            "      <td>-0.381626</td>\n",
                            "    </tr>\n",
                            "    <tr>\n",
                            "      <th>TAX</th>\n",
                            "      <td>0.582764</td>\n",
                            "      <td>-0.314563</td>\n",
                            "      <td>0.720760</td>\n",
                            "      <td>-0.035587</td>\n",
                            "      <td>0.668023</td>\n",
                            "      <td>-0.292048</td>\n",
                            "      <td>0.506456</td>\n",
                            "      <td>-0.534432</td>\n",
                            "      <td>0.910228</td>\n",
                            "      <td>1.000000</td>\n",
                            "      <td>0.460853</td>\n",
                            "      <td>-0.441808</td>\n",
                            "      <td>0.543993</td>\n",
                            "      <td>-0.468536</td>\n",
                            "    </tr>\n",
                            "    <tr>\n",
                            "      <th>PTRATIO</th>\n",
                            "      <td>0.289946</td>\n",
                            "      <td>-0.391679</td>\n",
                            "      <td>0.383248</td>\n",
                            "      <td>-0.121515</td>\n",
                            "      <td>0.188933</td>\n",
                            "      <td>-0.355501</td>\n",
                            "      <td>0.261515</td>\n",
                            "      <td>-0.232471</td>\n",
                            "      <td>0.464741</td>\n",
                            "      <td>0.460853</td>\n",
                            "      <td>1.000000</td>\n",
                            "      <td>-0.177383</td>\n",
                            "      <td>0.374044</td>\n",
                            "      <td>-0.507787</td>\n",
                            "    </tr>\n",
                            "    <tr>\n",
                            "      <th>B</th>\n",
                            "      <td>-0.385064</td>\n",
                            "      <td>0.175520</td>\n",
                            "      <td>-0.356977</td>\n",
                            "      <td>0.048788</td>\n",
                            "      <td>-0.380051</td>\n",
                            "      <td>0.128069</td>\n",
                            "      <td>-0.273534</td>\n",
                            "      <td>0.291512</td>\n",
                            "      <td>-0.444413</td>\n",
                            "      <td>-0.441808</td>\n",
                            "      <td>-0.177383</td>\n",
                            "      <td>1.000000</td>\n",
                            "      <td>-0.366087</td>\n",
                            "      <td>0.333461</td>\n",
                            "    </tr>\n",
                            "    <tr>\n",
                            "      <th>LSTAT</th>\n",
                            "      <td>0.455621</td>\n",
                            "      <td>-0.412995</td>\n",
                            "      <td>0.603800</td>\n",
                            "      <td>-0.053929</td>\n",
                            "      <td>0.590879</td>\n",
                            "      <td>-0.613808</td>\n",
                            "      <td>0.602339</td>\n",
                            "      <td>-0.496996</td>\n",
                            "      <td>0.488676</td>\n",
                            "      <td>0.543993</td>\n",
                            "      <td>0.374044</td>\n",
                            "      <td>-0.366087</td>\n",
                            "      <td>1.000000</td>\n",
                            "      <td>-0.737663</td>\n",
                            "    </tr>\n",
                            "    <tr>\n",
                            "      <th>MEDV</th>\n",
                            "      <td>-0.388305</td>\n",
                            "      <td>0.360445</td>\n",
                            "      <td>-0.483725</td>\n",
                            "      <td>0.175260</td>\n",
                            "      <td>-0.427321</td>\n",
                            "      <td>0.695360</td>\n",
                            "      <td>-0.376955</td>\n",
                            "      <td>0.249929</td>\n",
                            "      <td>-0.381626</td>\n",
                            "      <td>-0.468536</td>\n",
                            "      <td>-0.507787</td>\n",
                            "      <td>0.333461</td>\n",
                            "      <td>-0.737663</td>\n",
                            "      <td>1.000000</td>\n",
                            "    </tr>\n",
                            "  </tbody>\n",
                            "</table>\n",
                            "</div>"
                        ],
                        "text/plain": [
                            "             CRIM        ZN     INDUS      CHAS       NOX        RM       AGE  \\\n",
                            "CRIM     1.000000 -0.200469  0.406583 -0.055892  0.420972 -0.219247  0.352734   \n",
                            "ZN      -0.200469  1.000000 -0.533828 -0.042697 -0.516604  0.311991 -0.569537   \n",
                            "INDUS    0.406583 -0.533828  1.000000  0.062938  0.763651 -0.391676  0.644779   \n",
                            "CHAS    -0.055892 -0.042697  0.062938  1.000000  0.091203  0.091251  0.086518   \n",
                            "NOX      0.420972 -0.516604  0.763651  0.091203  1.000000 -0.302188  0.731470   \n",
                            "RM      -0.219247  0.311991 -0.391676  0.091251 -0.302188  1.000000 -0.240265   \n",
                            "AGE      0.352734 -0.569537  0.644779  0.086518  0.731470 -0.240265  1.000000   \n",
                            "DIS     -0.379670  0.664408 -0.708027 -0.099176 -0.769230  0.205246 -0.747881   \n",
                            "RAD      0.625505 -0.311948  0.595129 -0.007368  0.611441 -0.209847  0.456022   \n",
                            "TAX      0.582764 -0.314563  0.720760 -0.035587  0.668023 -0.292048  0.506456   \n",
                            "PTRATIO  0.289946 -0.391679  0.383248 -0.121515  0.188933 -0.355501  0.261515   \n",
                            "B       -0.385064  0.175520 -0.356977  0.048788 -0.380051  0.128069 -0.273534   \n",
                            "LSTAT    0.455621 -0.412995  0.603800 -0.053929  0.590879 -0.613808  0.602339   \n",
                            "MEDV    -0.388305  0.360445 -0.483725  0.175260 -0.427321  0.695360 -0.376955   \n",
                            "\n",
                            "              DIS       RAD       TAX   PTRATIO         B     LSTAT      MEDV  \n",
                            "CRIM    -0.379670  0.625505  0.582764  0.289946 -0.385064  0.455621 -0.388305  \n",
                            "ZN       0.664408 -0.311948 -0.314563 -0.391679  0.175520 -0.412995  0.360445  \n",
                            "INDUS   -0.708027  0.595129  0.720760  0.383248 -0.356977  0.603800 -0.483725  \n",
                            "CHAS    -0.099176 -0.007368 -0.035587 -0.121515  0.048788 -0.053929  0.175260  \n",
                            "NOX     -0.769230  0.611441  0.668023  0.188933 -0.380051  0.590879 -0.427321  \n",
                            "RM       0.205246 -0.209847 -0.292048 -0.355501  0.128069 -0.613808  0.695360  \n",
                            "AGE     -0.747881  0.456022  0.506456  0.261515 -0.273534  0.602339 -0.376955  \n",
                            "DIS      1.000000 -0.494588 -0.534432 -0.232471  0.291512 -0.496996  0.249929  \n",
                            "RAD     -0.494588  1.000000  0.910228  0.464741 -0.444413  0.488676 -0.381626  \n",
                            "TAX     -0.534432  0.910228  1.000000  0.460853 -0.441808  0.543993 -0.468536  \n",
                            "PTRATIO -0.232471  0.464741  0.460853  1.000000 -0.177383  0.374044 -0.507787  \n",
                            "B        0.291512 -0.444413 -0.441808 -0.177383  1.000000 -0.366087  0.333461  \n",
                            "LSTAT   -0.496996  0.488676  0.543993  0.374044 -0.366087  1.000000 -0.737663  \n",
                            "MEDV     0.249929 -0.381626 -0.468536 -0.507787  0.333461 -0.737663  1.000000  "
                        ]
                    },
                    "execution_count": 537,
                    "metadata": {},
                    "output_type": "execute_result"
                }
            ],
            "source": [
                "corr_matrix"
            ]
        },
        {
            "cell_type": "code",
            "execution_count": 538,
            "metadata": {},
            "outputs": [
                {
                    "data": {
                        "text/plain": [
                            "MEDV       1.000000\n",
                            "RM         0.695360\n",
                            "ZN         0.360445\n",
                            "B          0.333461\n",
                            "DIS        0.249929\n",
                            "CHAS       0.175260\n",
                            "AGE       -0.376955\n",
                            "RAD       -0.381626\n",
                            "CRIM      -0.388305\n",
                            "NOX       -0.427321\n",
                            "TAX       -0.468536\n",
                            "INDUS     -0.483725\n",
                            "PTRATIO   -0.507787\n",
                            "LSTAT     -0.737663\n",
                            "Name: MEDV, dtype: float64"
                        ]
                    },
                    "execution_count": 538,
                    "metadata": {},
                    "output_type": "execute_result"
                }
            ],
            "source": [
                "corr_matrix['MEDV'].sort_values(ascending=False)"
            ]
        },
        {
            "cell_type": "code",
            "execution_count": 539,
            "metadata": {},
            "outputs": [],
            "source": [
                "from pandas.plotting import scatter_matrix"
            ]
        },
        {
            "cell_type": "code",
            "execution_count": 540,
            "metadata": {},
            "outputs": [
                {
                    "data": {
                        "text/plain": [
                            "array([[<AxesSubplot:xlabel='MEDV', ylabel='MEDV'>,\n",
                            "        <AxesSubplot:xlabel='RM', ylabel='MEDV'>,\n",
                            "        <AxesSubplot:xlabel='ZN', ylabel='MEDV'>,\n",
                            "        <AxesSubplot:xlabel='LSTAT', ylabel='MEDV'>],\n",
                            "       [<AxesSubplot:xlabel='MEDV', ylabel='RM'>,\n",
                            "        <AxesSubplot:xlabel='RM', ylabel='RM'>,\n",
                            "        <AxesSubplot:xlabel='ZN', ylabel='RM'>,\n",
                            "        <AxesSubplot:xlabel='LSTAT', ylabel='RM'>],\n",
                            "       [<AxesSubplot:xlabel='MEDV', ylabel='ZN'>,\n",
                            "        <AxesSubplot:xlabel='RM', ylabel='ZN'>,\n",
                            "        <AxesSubplot:xlabel='ZN', ylabel='ZN'>,\n",
                            "        <AxesSubplot:xlabel='LSTAT', ylabel='ZN'>],\n",
                            "       [<AxesSubplot:xlabel='MEDV', ylabel='LSTAT'>,\n",
                            "        <AxesSubplot:xlabel='RM', ylabel='LSTAT'>,\n",
                            "        <AxesSubplot:xlabel='ZN', ylabel='LSTAT'>,\n",
                            "        <AxesSubplot:xlabel='LSTAT', ylabel='LSTAT'>]], dtype=object)"
                        ]
                    },
                    "execution_count": 540,
                    "metadata": {},
                    "output_type": "execute_result"
                },
                {
                    "data": {
                        "image/png": "[encoded data removed]",
                        "text/plain": [
                            "<Figure size 864x576 with 16 Axes>"
                        ]
                    },
                    "metadata": {
                        "needs_background": "light"
                    },
                    "output_type": "display_data"
                }
            ],
            "source": [
                "attributes = ['MEDV','RM','ZN',\"LSTAT\"]\n",
                "scatter_matrix(housing[attributes],figsize=(12,8))"
            ]
        },
        {
            "cell_type": "code",
            "execution_count": 541,
            "metadata": {},
            "outputs": [
                {
                    "data": {
                        "text/plain": [
                            "0.0      372\n",
                            "20.0      21\n",
                            "80.0      15\n",
                            "12.5      10\n",
                            "25.0      10\n",
                            "22.0      10\n",
                            "40.0       7\n",
                            "30.0       6\n",
                            "45.0       6\n",
                            "90.0       5\n",
                            "95.0       4\n",
                            "21.0       4\n",
                            "60.0       4\n",
                            "33.0       4\n",
                            "28.0       3\n",
                            "52.5       3\n",
                            "75.0       3\n",
                            "34.0       3\n",
                            "35.0       3\n",
                            "70.0       3\n",
                            "55.0       3\n",
                            "82.5       2\n",
                            "85.0       2\n",
                            "17.5       1\n",
                            "100.0      1\n",
                            "18.0       1\n",
                            "Name: ZN, dtype: int64"
                        ]
                    },
                    "execution_count": 541,
                    "metadata": {},
                    "output_type": "execute_result"
                }
            ],
            "source": [
                "housing['ZN'].value_counts()"
            ]
        },
        {
            "cell_type": "code",
            "execution_count": 542,
            "metadata": {},
            "outputs": [
                {
                    "data": {
                        "text/plain": [
                            "<AxesSubplot:xlabel='RM', ylabel='MEDV'>"
                        ]
                    },
                    "execution_count": 542,
                    "metadata": {},
                    "output_type": "execute_result"
                },
                {
                    "data": {
                        "image/png": "[encoded data removed]",
                        "text/plain": [
                            "<Figure size 432x288 with 1 Axes>"
                        ]
                    },
                    "metadata": {
                        "needs_background": "light"
                    },
                    "output_type": "display_data"
                }
            ],
            "source": [
                "housing.plot(kind='scatter',x='RM',y='MEDV',alpha=0.8)"
            ]
        },
        {
            "cell_type": "markdown",
            "metadata": {},
            "source": [
                "# Attribute Combinations"
            ]
        },
        {
            "cell_type": "code",
            "execution_count": 543,
            "metadata": {},
            "outputs": [],
            "source": [
                "housing['TAXRM'] = housing[\"TAX\"]/housing['RM']"
            ]
        },
        {
            "cell_type": "code",
            "execution_count": 544,
            "metadata": {},
            "outputs": [
                {
                    "data": {
                        "text/plain": [
                            "0      45.019011\n",
                            "1      37.688834\n",
                            "2      33.681280\n",
                            "3      31.723350\n",
                            "4      31.061984\n",
                            "         ...    \n",
                            "501    41.407553\n",
                            "502    44.607843\n",
                            "503    39.134174\n",
                            "504    40.182514\n",
                            "505    45.273632\n",
                            "Name: TAXRM, Length: 506, dtype: float64"
                        ]
                    },
                    "execution_count": 544,
                    "metadata": {},
                    "output_type": "execute_result"
                }
            ],
            "source": [
                "housing['TAXRM']"
            ]
        },
        {
            "cell_type": "code",
            "execution_count": 545,
            "metadata": {},
            "outputs": [
                {
                    "data": {
                        "text/html": [
                            "<div>\n",
                            "<style scoped>\n",
                            "    .dataframe tbody tr th:only-of-type {\n",
                            "        vertical-align: middle;\n",
                            "    }\n",
                            "\n",
                            "    .dataframe tbody tr th {\n",
                            "        vertical-align: top;\n",
                            "    }\n",
                            "\n",
                            "    .dataframe thead th {\n",
                            "        text-align: right;\n",
                            "    }\n",
                            "</style>\n",
                            "<table border=\"1\" class=\"dataframe\">\n",
                            "  <thead>\n",
                            "    <tr style=\"text-align: right;\">\n",
                            "      <th></th>\n",
                            "      <th>CRIM</th>\n",
                            "      <th>ZN</th>\n",
                            "      <th>INDUS</th>\n",
                            "      <th>CHAS</th>\n",
                            "      <th>NOX</th>\n",
                            "      <th>RM</th>\n",
                            "      <th>AGE</th>\n",
                            "      <th>DIS</th>\n",
                            "      <th>RAD</th>\n",
                            "      <th>TAX</th>\n",
                            "      <th>PTRATIO</th>\n",
                            "      <th>B</th>\n",
                            "      <th>LSTAT</th>\n",
                            "      <th>MEDV</th>\n",
                            "      <th>TAXRM</th>\n",
                            "    </tr>\n",
                            "  </thead>\n",
                            "  <tbody>\n",
                            "    <tr>\n",
                            "      <th>0</th>\n",
                            "      <td>0.00632</td>\n",
                            "      <td>18.0</td>\n",
                            "      <td>2.31</td>\n",
                            "      <td>0</td>\n",
                            "      <td>0.538</td>\n",
                            "      <td>6.575</td>\n",
                            "      <td>65.2</td>\n",
                            "      <td>4.0900</td>\n",
                            "      <td>1</td>\n",
                            "      <td>296</td>\n",
                            "      <td>15.3</td>\n",
                            "      <td>396.90</td>\n",
                            "      <td>4.98</td>\n",
                            "      <td>24.0</td>\n",
                            "      <td>45.019011</td>\n",
                            "    </tr>\n",
                            "    <tr>\n",
                            "      <th>1</th>\n",
                            "      <td>0.02731</td>\n",
                            "      <td>0.0</td>\n",
                            "      <td>7.07</td>\n",
                            "      <td>0</td>\n",
                            "      <td>0.469</td>\n",
                            "      <td>6.421</td>\n",
                            "      <td>78.9</td>\n",
                            "      <td>4.9671</td>\n",
                            "      <td>2</td>\n",
                            "      <td>242</td>\n",
                            "      <td>17.8</td>\n",
                            "      <td>396.90</td>\n",
                            "      <td>9.14</td>\n",
                            "      <td>21.6</td>\n",
                            "      <td>37.688834</td>\n",
                            "    </tr>\n",
                            "    <tr>\n",
                            "      <th>2</th>\n",
                            "      <td>0.02729</td>\n",
                            "      <td>0.0</td>\n",
                            "      <td>7.07</td>\n",
                            "      <td>0</td>\n",
                            "      <td>0.469</td>\n",
                            "      <td>7.185</td>\n",
                            "      <td>61.1</td>\n",
                            "      <td>4.9671</td>\n",
                            "      <td>2</td>\n",
                            "      <td>242</td>\n",
                            "      <td>17.8</td>\n",
                            "      <td>392.83</td>\n",
                            "      <td>4.03</td>\n",
                            "      <td>34.7</td>\n",
                            "      <td>33.681280</td>\n",
                            "    </tr>\n",
                            "    <tr>\n",
                            "      <th>3</th>\n",
                            "      <td>0.03237</td>\n",
                            "      <td>0.0</td>\n",
                            "      <td>2.18</td>\n",
                            "      <td>0</td>\n",
                            "      <td>0.458</td>\n",
                            "      <td>6.998</td>\n",
                            "      <td>45.8</td>\n",
                            "      <td>6.0622</td>\n",
                            "      <td>3</td>\n",
                            "      <td>222</td>\n",
                            "      <td>18.7</td>\n",
                            "      <td>394.63</td>\n",
                            "      <td>2.94</td>\n",
                            "      <td>33.4</td>\n",
                            "      <td>31.723350</td>\n",
                            "    </tr>\n",
                            "    <tr>\n",
                            "      <th>4</th>\n",
                            "      <td>0.06905</td>\n",
                            "      <td>0.0</td>\n",
                            "      <td>2.18</td>\n",
                            "      <td>0</td>\n",
                            "      <td>0.458</td>\n",
                            "      <td>7.147</td>\n",
                            "      <td>54.2</td>\n",
                            "      <td>6.0622</td>\n",
                            "      <td>3</td>\n",
                            "      <td>222</td>\n",
                            "      <td>18.7</td>\n",
                            "      <td>396.90</td>\n",
                            "      <td>5.33</td>\n",
                            "      <td>36.2</td>\n",
                            "      <td>31.061984</td>\n",
                            "    </tr>\n",
                            "  </tbody>\n",
                            "</table>\n",
                            "</div>"
                        ],
                        "text/plain": [
                            "      CRIM    ZN  INDUS  CHAS    NOX     RM   AGE     DIS  RAD  TAX  PTRATIO  \\\n",
                            "0  0.00632  18.0   2.31     0  0.538  6.575  65.2  4.0900    1  296     15.3   \n",
                            "1  0.02731   0.0   7.07     0  0.469  6.421  78.9  4.9671    2  242     17.8   \n",
                            "2  0.02729   0.0   7.07     0  0.469  7.185  61.1  4.9671    2  242     17.8   \n",
                            "3  0.03237   0.0   2.18     0  0.458  6.998  45.8  6.0622    3  222     18.7   \n",
                            "4  0.06905   0.0   2.18     0  0.458  7.147  54.2  6.0622    3  222     18.7   \n",
                            "\n",
                            "        B  LSTAT  MEDV      TAXRM  \n",
                            "0  396.90   4.98  24.0  45.019011  \n",
                            "1  396.90   9.14  21.6  37.688834  \n",
                            "2  392.83   4.03  34.7  33.681280  \n",
                            "3  394.63   2.94  33.4  31.723350  \n",
                            "4  396.90   5.33  36.2  31.061984  "
                        ]
                    },
                    "execution_count": 545,
                    "metadata": {},
                    "output_type": "execute_result"
                }
            ],
            "source": [
                "housing.head()"
            ]
        },
        {
            "cell_type": "code",
            "execution_count": 546,
            "metadata": {},
            "outputs": [],
            "source": [
                "corr_matrix = housing.corr()"
            ]
        },
        {
            "cell_type": "code",
            "execution_count": 547,
            "metadata": {},
            "outputs": [
                {
                    "data": {
                        "text/html": [
                            "<div>\n",
                            "<style scoped>\n",
                            "    .dataframe tbody tr th:only-of-type {\n",
                            "        vertical-align: middle;\n",
                            "    }\n",
                            "\n",
                            "    .dataframe tbody tr th {\n",
                            "        vertical-align: top;\n",
                            "    }\n",
                            "\n",
                            "    .dataframe thead th {\n",
                            "        text-align: right;\n",
                            "    }\n",
                            "</style>\n",
                            "<table border=\"1\" class=\"dataframe\">\n",
                            "  <thead>\n",
                            "    <tr style=\"text-align: right;\">\n",
                            "      <th></th>\n",
                            "      <th>CRIM</th>\n",
                            "      <th>ZN</th>\n",
                            "      <th>INDUS</th>\n",
                            "      <th>CHAS</th>\n",
                            "      <th>NOX</th>\n",
                            "      <th>RM</th>\n",
                            "      <th>AGE</th>\n",
                            "      <th>DIS</th>\n",
                            "      <th>RAD</th>\n",
                            "      <th>TAX</th>\n",
                            "      <th>PTRATIO</th>\n",
                            "      <th>B</th>\n",
                            "      <th>LSTAT</th>\n",
                            "      <th>MEDV</th>\n",
                            "      <th>TAXRM</th>\n",
                            "    </tr>\n",
                            "  </thead>\n",
                            "  <tbody>\n",
                            "    <tr>\n",
                            "      <th>CRIM</th>\n",
                            "      <td>1.000000</td>\n",
                            "      <td>-0.200469</td>\n",
                            "      <td>0.406583</td>\n",
                            "      <td>-0.055892</td>\n",
                            "      <td>0.420972</td>\n",
                            "      <td>-0.219247</td>\n",
                            "      <td>0.352734</td>\n",
                            "      <td>-0.379670</td>\n",
                            "      <td>0.625505</td>\n",
                            "      <td>0.582764</td>\n",
                            "      <td>0.289946</td>\n",
                            "      <td>-0.385064</td>\n",
                            "      <td>0.455621</td>\n",
                            "      <td>-0.388305</td>\n",
                            "      <td>0.587899</td>\n",
                            "    </tr>\n",
                            "    <tr>\n",
                            "      <th>ZN</th>\n",
                            "      <td>-0.200469</td>\n",
                            "      <td>1.000000</td>\n",
                            "      <td>-0.533828</td>\n",
                            "      <td>-0.042697</td>\n",
                            "      <td>-0.516604</td>\n",
                            "      <td>0.311991</td>\n",
                            "      <td>-0.569537</td>\n",
                            "      <td>0.664408</td>\n",
                            "      <td>-0.311948</td>\n",
                            "      <td>-0.314563</td>\n",
                            "      <td>-0.391679</td>\n",
                            "      <td>0.175520</td>\n",
                            "      <td>-0.412995</td>\n",
                            "      <td>0.360445</td>\n",
                            "      <td>-0.337028</td>\n",
                            "    </tr>\n",
                            "    <tr>\n",
                            "      <th>INDUS</th>\n",
                            "      <td>0.406583</td>\n",
                            "      <td>-0.533828</td>\n",
                            "      <td>1.000000</td>\n",
                            "      <td>0.062938</td>\n",
                            "      <td>0.763651</td>\n",
                            "      <td>-0.391676</td>\n",
                            "      <td>0.644779</td>\n",
                            "      <td>-0.708027</td>\n",
                            "      <td>0.595129</td>\n",
                            "      <td>0.720760</td>\n",
                            "      <td>0.383248</td>\n",
                            "      <td>-0.356977</td>\n",
                            "      <td>0.603800</td>\n",
                            "      <td>-0.483725</td>\n",
                            "      <td>0.721423</td>\n",
                            "    </tr>\n",
                            "    <tr>\n",
                            "      <th>CHAS</th>\n",
                            "      <td>-0.055892</td>\n",
                            "      <td>-0.042697</td>\n",
                            "      <td>0.062938</td>\n",
                            "      <td>1.000000</td>\n",
                            "      <td>0.091203</td>\n",
                            "      <td>0.091251</td>\n",
                            "      <td>0.086518</td>\n",
                            "      <td>-0.099176</td>\n",
                            "      <td>-0.007368</td>\n",
                            "      <td>-0.035587</td>\n",
                            "      <td>-0.121515</td>\n",
                            "      <td>0.048788</td>\n",
                            "      <td>-0.053929</td>\n",
                            "      <td>0.175260</td>\n",
                            "      <td>-0.056486</td>\n",
                            "    </tr>\n",
                            "    <tr>\n",
                            "      <th>NOX</th>\n",
                            "      <td>0.420972</td>\n",
                            "      <td>-0.516604</td>\n",
                            "      <td>0.763651</td>\n",
                            "      <td>0.091203</td>\n",
                            "      <td>1.000000</td>\n",
                            "      <td>-0.302188</td>\n",
                            "      <td>0.731470</td>\n",
                            "      <td>-0.769230</td>\n",
                            "      <td>0.611441</td>\n",
                            "      <td>0.668023</td>\n",
                            "      <td>0.188933</td>\n",
                            "      <td>-0.380051</td>\n",
                            "      <td>0.590879</td>\n",
                            "      <td>-0.427321</td>\n",
                            "      <td>0.664994</td>\n",
                            "    </tr>\n",
                            "    <tr>\n",
                            "      <th>RM</th>\n",
                            "      <td>-0.219247</td>\n",
                            "      <td>0.311991</td>\n",
                            "      <td>-0.391676</td>\n",
                            "      <td>0.091251</td>\n",
                            "      <td>-0.302188</td>\n",
                            "      <td>1.000000</td>\n",
                            "      <td>-0.240265</td>\n",
                            "      <td>0.205246</td>\n",
                            "      <td>-0.209847</td>\n",
                            "      <td>-0.292048</td>\n",
                            "      <td>-0.355501</td>\n",
                            "      <td>0.128069</td>\n",
                            "      <td>-0.613808</td>\n",
                            "      <td>0.695360</td>\n",
                            "      <td>-0.510150</td>\n",
                            "    </tr>\n",
                            "    <tr>\n",
                            "      <th>AGE</th>\n",
                            "      <td>0.352734</td>\n",
                            "      <td>-0.569537</td>\n",
                            "      <td>0.644779</td>\n",
                            "      <td>0.086518</td>\n",
                            "      <td>0.731470</td>\n",
                            "      <td>-0.240265</td>\n",
                            "      <td>1.000000</td>\n",
                            "      <td>-0.747881</td>\n",
                            "      <td>0.456022</td>\n",
                            "      <td>0.506456</td>\n",
                            "      <td>0.261515</td>\n",
                            "      <td>-0.273534</td>\n",
                            "      <td>0.602339</td>\n",
                            "      <td>-0.376955</td>\n",
                            "      <td>0.510628</td>\n",
                            "    </tr>\n",
                            "    <tr>\n",
                            "      <th>DIS</th>\n",
                            "      <td>-0.379670</td>\n",
                            "      <td>0.664408</td>\n",
                            "      <td>-0.708027</td>\n",
                            "      <td>-0.099176</td>\n",
                            "      <td>-0.769230</td>\n",
                            "      <td>0.205246</td>\n",
                            "      <td>-0.747881</td>\n",
                            "      <td>1.000000</td>\n",
                            "      <td>-0.494588</td>\n",
                            "      <td>-0.534432</td>\n",
                            "      <td>-0.232471</td>\n",
                            "      <td>0.291512</td>\n",
                            "      <td>-0.496996</td>\n",
                            "      <td>0.249929</td>\n",
                            "      <td>-0.535744</td>\n",
                            "    </tr>\n",
                            "    <tr>\n",
                            "      <th>RAD</th>\n",
                            "      <td>0.625505</td>\n",
                            "      <td>-0.311948</td>\n",
                            "      <td>0.595129</td>\n",
                            "      <td>-0.007368</td>\n",
                            "      <td>0.611441</td>\n",
                            "      <td>-0.209847</td>\n",
                            "      <td>0.456022</td>\n",
                            "      <td>-0.494588</td>\n",
                            "      <td>1.000000</td>\n",
                            "      <td>0.910228</td>\n",
                            "      <td>0.464741</td>\n",
                            "      <td>-0.444413</td>\n",
                            "      <td>0.488676</td>\n",
                            "      <td>-0.381626</td>\n",
                            "      <td>0.864230</td>\n",
                            "    </tr>\n",
                            "    <tr>\n",
                            "      <th>TAX</th>\n",
                            "      <td>0.582764</td>\n",
                            "      <td>-0.314563</td>\n",
                            "      <td>0.720760</td>\n",
                            "      <td>-0.035587</td>\n",
                            "      <td>0.668023</td>\n",
                            "      <td>-0.292048</td>\n",
                            "      <td>0.506456</td>\n",
                            "      <td>-0.534432</td>\n",
                            "      <td>0.910228</td>\n",
                            "      <td>1.000000</td>\n",
                            "      <td>0.460853</td>\n",
                            "      <td>-0.441808</td>\n",
                            "      <td>0.543993</td>\n",
                            "      <td>-0.468536</td>\n",
                            "      <td>0.957401</td>\n",
                            "    </tr>\n",
                            "    <tr>\n",
                            "      <th>PTRATIO</th>\n",
                            "      <td>0.289946</td>\n",
                            "      <td>-0.391679</td>\n",
                            "      <td>0.383248</td>\n",
                            "      <td>-0.121515</td>\n",
                            "      <td>0.188933</td>\n",
                            "      <td>-0.355501</td>\n",
                            "      <td>0.261515</td>\n",
                            "      <td>-0.232471</td>\n",
                            "      <td>0.464741</td>\n",
                            "      <td>0.460853</td>\n",
                            "      <td>1.000000</td>\n",
                            "      <td>-0.177383</td>\n",
                            "      <td>0.374044</td>\n",
                            "      <td>-0.507787</td>\n",
                            "      <td>0.473156</td>\n",
                            "    </tr>\n",
                            "    <tr>\n",
                            "      <th>B</th>\n",
                            "      <td>-0.385064</td>\n",
                            "      <td>0.175520</td>\n",
                            "      <td>-0.356977</td>\n",
                            "      <td>0.048788</td>\n",
                            "      <td>-0.380051</td>\n",
                            "      <td>0.128069</td>\n",
                            "      <td>-0.273534</td>\n",
                            "      <td>0.291512</td>\n",
                            "      <td>-0.444413</td>\n",
                            "      <td>-0.441808</td>\n",
                            "      <td>-0.177383</td>\n",
                            "      <td>1.000000</td>\n",
                            "      <td>-0.366087</td>\n",
                            "      <td>0.333461</td>\n",
                            "      <td>-0.417441</td>\n",
                            "    </tr>\n",
                            "    <tr>\n",
                            "      <th>LSTAT</th>\n",
                            "      <td>0.455621</td>\n",
                            "      <td>-0.412995</td>\n",
                            "      <td>0.603800</td>\n",
                            "      <td>-0.053929</td>\n",
                            "      <td>0.590879</td>\n",
                            "      <td>-0.613808</td>\n",
                            "      <td>0.602339</td>\n",
                            "      <td>-0.496996</td>\n",
                            "      <td>0.488676</td>\n",
                            "      <td>0.543993</td>\n",
                            "      <td>0.374044</td>\n",
                            "      <td>-0.366087</td>\n",
                            "      <td>1.000000</td>\n",
                            "      <td>-0.737663</td>\n",
                            "      <td>0.628173</td>\n",
                            "    </tr>\n",
                            "    <tr>\n",
                            "      <th>MEDV</th>\n",
                            "      <td>-0.388305</td>\n",
                            "      <td>0.360445</td>\n",
                            "      <td>-0.483725</td>\n",
                            "      <td>0.175260</td>\n",
                            "      <td>-0.427321</td>\n",
                            "      <td>0.695360</td>\n",
                            "      <td>-0.376955</td>\n",
                            "      <td>0.249929</td>\n",
                            "      <td>-0.381626</td>\n",
                            "      <td>-0.468536</td>\n",
                            "      <td>-0.507787</td>\n",
                            "      <td>0.333461</td>\n",
                            "      <td>-0.737663</td>\n",
                            "      <td>1.000000</td>\n",
                            "      <td>-0.537650</td>\n",
                            "    </tr>\n",
                            "    <tr>\n",
                            "      <th>TAXRM</th>\n",
                            "      <td>0.587899</td>\n",
                            "      <td>-0.337028</td>\n",
                            "      <td>0.721423</td>\n",
                            "      <td>-0.056486</td>\n",
                            "      <td>0.664994</td>\n",
                            "      <td>-0.510150</td>\n",
                            "      <td>0.510628</td>\n",
                            "      <td>-0.535744</td>\n",
                            "      <td>0.864230</td>\n",
                            "      <td>0.957401</td>\n",
                            "      <td>0.473156</td>\n",
                            "      <td>-0.417441</td>\n",
                            "      <td>0.628173</td>\n",
                            "      <td>-0.537650</td>\n",
                            "      <td>1.000000</td>\n",
                            "    </tr>\n",
                            "  </tbody>\n",
                            "</table>\n",
                            "</div>"
                        ],
                        "text/plain": [
                            "             CRIM        ZN     INDUS      CHAS       NOX        RM       AGE  \\\n",
                            "CRIM     1.000000 -0.200469  0.406583 -0.055892  0.420972 -0.219247  0.352734   \n",
                            "ZN      -0.200469  1.000000 -0.533828 -0.042697 -0.516604  0.311991 -0.569537   \n",
                            "INDUS    0.406583 -0.533828  1.000000  0.062938  0.763651 -0.391676  0.644779   \n",
                            "CHAS    -0.055892 -0.042697  0.062938  1.000000  0.091203  0.091251  0.086518   \n",
                            "NOX      0.420972 -0.516604  0.763651  0.091203  1.000000 -0.302188  0.731470   \n",
                            "RM      -0.219247  0.311991 -0.391676  0.091251 -0.302188  1.000000 -0.240265   \n",
                            "AGE      0.352734 -0.569537  0.644779  0.086518  0.731470 -0.240265  1.000000   \n",
                            "DIS     -0.379670  0.664408 -0.708027 -0.099176 -0.769230  0.205246 -0.747881   \n",
                            "RAD      0.625505 -0.311948  0.595129 -0.007368  0.611441 -0.209847  0.456022   \n",
                            "TAX      0.582764 -0.314563  0.720760 -0.035587  0.668023 -0.292048  0.506456   \n",
                            "PTRATIO  0.289946 -0.391679  0.383248 -0.121515  0.188933 -0.355501  0.261515   \n",
                            "B       -0.385064  0.175520 -0.356977  0.048788 -0.380051  0.128069 -0.273534   \n",
                            "LSTAT    0.455621 -0.412995  0.603800 -0.053929  0.590879 -0.613808  0.602339   \n",
                            "MEDV    -0.388305  0.360445 -0.483725  0.175260 -0.427321  0.695360 -0.376955   \n",
                            "TAXRM    0.587899 -0.337028  0.721423 -0.056486  0.664994 -0.510150  0.510628   \n",
                            "\n",
                            "              DIS       RAD       TAX   PTRATIO         B     LSTAT      MEDV  \\\n",
                            "CRIM    -0.379670  0.625505  0.582764  0.289946 -0.385064  0.455621 -0.388305   \n",
                            "ZN       0.664408 -0.311948 -0.314563 -0.391679  0.175520 -0.412995  0.360445   \n",
                            "INDUS   -0.708027  0.595129  0.720760  0.383248 -0.356977  0.603800 -0.483725   \n",
                            "CHAS    -0.099176 -0.007368 -0.035587 -0.121515  0.048788 -0.053929  0.175260   \n",
                            "NOX     -0.769230  0.611441  0.668023  0.188933 -0.380051  0.590879 -0.427321   \n",
                            "RM       0.205246 -0.209847 -0.292048 -0.355501  0.128069 -0.613808  0.695360   \n",
                            "AGE     -0.747881  0.456022  0.506456  0.261515 -0.273534  0.602339 -0.376955   \n",
                            "DIS      1.000000 -0.494588 -0.534432 -0.232471  0.291512 -0.496996  0.249929   \n",
                            "RAD     -0.494588  1.000000  0.910228  0.464741 -0.444413  0.488676 -0.381626   \n",
                            "TAX     -0.534432  0.910228  1.000000  0.460853 -0.441808  0.543993 -0.468536   \n",
                            "PTRATIO -0.232471  0.464741  0.460853  1.000000 -0.177383  0.374044 -0.507787   \n",
                            "B        0.291512 -0.444413 -0.441808 -0.177383  1.000000 -0.366087  0.333461   \n",
                            "LSTAT   -0.496996  0.488676  0.543993  0.374044 -0.366087  1.000000 -0.737663   \n",
                            "MEDV     0.249929 -0.381626 -0.468536 -0.507787  0.333461 -0.737663  1.000000   \n",
                            "TAXRM   -0.535744  0.864230  0.957401  0.473156 -0.417441  0.628173 -0.537650   \n",
                            "\n",
                            "            TAXRM  \n",
                            "CRIM     0.587899  \n",
                            "ZN      -0.337028  \n",
                            "INDUS    0.721423  \n",
                            "CHAS    -0.056486  \n",
                            "NOX      0.664994  \n",
                            "RM      -0.510150  \n",
                            "AGE      0.510628  \n",
                            "DIS     -0.535744  \n",
                            "RAD      0.864230  \n",
                            "TAX      0.957401  \n",
                            "PTRATIO  0.473156  \n",
                            "B       -0.417441  \n",
                            "LSTAT    0.628173  \n",
                            "MEDV    -0.537650  \n",
                            "TAXRM    1.000000  "
                        ]
                    },
                    "execution_count": 547,
                    "metadata": {},
                    "output_type": "execute_result"
                }
            ],
            "source": [
                "corr_matrix"
            ]
        },
        {
            "cell_type": "code",
            "execution_count": 548,
            "metadata": {},
            "outputs": [
                {
                    "data": {
                        "text/plain": [
                            "MEDV       1.000000\n",
                            "RM         0.695360\n",
                            "ZN         0.360445\n",
                            "B          0.333461\n",
                            "DIS        0.249929\n",
                            "CHAS       0.175260\n",
                            "AGE       -0.376955\n",
                            "RAD       -0.381626\n",
                            "CRIM      -0.388305\n",
                            "NOX       -0.427321\n",
                            "TAX       -0.468536\n",
                            "INDUS     -0.483725\n",
                            "PTRATIO   -0.507787\n",
                            "TAXRM     -0.537650\n",
                            "LSTAT     -0.737663\n",
                            "Name: MEDV, dtype: float64"
                        ]
                    },
                    "execution_count": 548,
                    "metadata": {},
                    "output_type": "execute_result"
                }
            ],
            "source": [
                "corr_matrix['MEDV'].sort_values(ascending=False)"
            ]
        },
        {
            "cell_type": "code",
            "execution_count": 549,
            "metadata": {},
            "outputs": [
                {
                    "data": {
                        "text/plain": [
                            "<AxesSubplot:xlabel='TAXRM', ylabel='MEDV'>"
                        ]
                    },
                    "execution_count": 549,
                    "metadata": {},
                    "output_type": "execute_result"
                },
                {
                    "data": {
                        "image/png": "[encoded data removed]",
                        "text/plain": [
                            "<Figure size 432x288 with 1 Axes>"
                        ]
                    },
                    "metadata": {
                        "needs_background": "light"
                    },
                    "output_type": "display_data"
                }
            ],
            "source": [
                "housing.plot(kind='scatter',x='TAXRM',y='MEDV',alpha=0.8)"
            ]
        },
        {
            "cell_type": "code",
            "execution_count": 550,
            "metadata": {},
            "outputs": [
                {
                    "data": {
                        "text/plain": [
                            "<AxesSubplot:xlabel='MEDV', ylabel='TAXRM'>"
                        ]
                    },
                    "execution_count": 550,
                    "metadata": {},
                    "output_type": "execute_result"
                },
                {
                    "data": {
                        "image/png": "[encoded data removed]",
                        "text/plain": [
                            "<Figure size 432x288 with 1 Axes>"
                        ]
                    },
                    "metadata": {
                        "needs_background": "light"
                    },
                    "output_type": "display_data"
                }
            ],
            "source": [
                "housing.plot(kind='scatter',y='TAXRM',x='MEDV',alpha=0.8)"
            ]
        },
        {
            "cell_type": "code",
            "execution_count": 551,
            "metadata": {},
            "outputs": [
                {
                    "name": "stdout",
                    "output_type": "stream",
                    "text": [
                        "99     33.2\n",
                        "54     18.9\n",
                        "229    31.5\n",
                        "403     8.3\n",
                        "395    13.1\n",
                        "       ... \n",
                        "251    24.8\n",
                        "504    22.0\n",
                        "441    17.1\n",
                        "166    50.0\n",
                        "505    11.9\n",
                        "Name: MEDV, Length: 404, dtype: float64\n"
                    ]
                }
            ],
            "source": [
                "housing = strat_train_set.drop(\"MEDV\", axis = 1)\n",
                "housing_labels = strat_train_set[\"MEDV\"].copy()\n",
                "print(housing_labels)"
            ]
        },
        {
            "cell_type": "markdown",
            "metadata": {},
            "source": [
                "# Making machine learning model from now on"
            ]
        },
        {
            "cell_type": "code",
            "execution_count": 552,
            "metadata": {},
            "outputs": [
                {
                    "data": {
                        "text/html": [
                            "<div>\n",
                            "<style scoped>\n",
                            "    .dataframe tbody tr th:only-of-type {\n",
                            "        vertical-align: middle;\n",
                            "    }\n",
                            "\n",
                            "    .dataframe tbody tr th {\n",
                            "        vertical-align: top;\n",
                            "    }\n",
                            "\n",
                            "    .dataframe thead th {\n",
                            "        text-align: right;\n",
                            "    }\n",
                            "</style>\n",
                            "<table border=\"1\" class=\"dataframe\">\n",
                            "  <thead>\n",
                            "    <tr style=\"text-align: right;\">\n",
                            "      <th></th>\n",
                            "      <th>CRIM</th>\n",
                            "      <th>ZN</th>\n",
                            "      <th>INDUS</th>\n",
                            "      <th>CHAS</th>\n",
                            "      <th>NOX</th>\n",
                            "      <th>RM</th>\n",
                            "      <th>AGE</th>\n",
                            "      <th>DIS</th>\n",
                            "      <th>RAD</th>\n",
                            "      <th>TAX</th>\n",
                            "      <th>PTRATIO</th>\n",
                            "      <th>B</th>\n",
                            "      <th>LSTAT</th>\n",
                            "    </tr>\n",
                            "  </thead>\n",
                            "  <tbody>\n",
                            "    <tr>\n",
                            "      <th>99</th>\n",
                            "      <td>0.06860</td>\n",
                            "      <td>0.0</td>\n",
                            "      <td>2.89</td>\n",
                            "      <td>0</td>\n",
                            "      <td>0.445</td>\n",
                            "      <td>7.416</td>\n",
                            "      <td>62.5</td>\n",
                            "      <td>3.4952</td>\n",
                            "      <td>2</td>\n",
                            "      <td>276</td>\n",
                            "      <td>18.0</td>\n",
                            "      <td>396.90</td>\n",
                            "      <td>6.19</td>\n",
                            "    </tr>\n",
                            "    <tr>\n",
                            "      <th>54</th>\n",
                            "      <td>0.01360</td>\n",
                            "      <td>75.0</td>\n",
                            "      <td>4.00</td>\n",
                            "      <td>0</td>\n",
                            "      <td>0.410</td>\n",
                            "      <td>5.888</td>\n",
                            "      <td>47.6</td>\n",
                            "      <td>7.3197</td>\n",
                            "      <td>3</td>\n",
                            "      <td>469</td>\n",
                            "      <td>21.1</td>\n",
                            "      <td>396.90</td>\n",
                            "      <td>14.80</td>\n",
                            "    </tr>\n",
                            "    <tr>\n",
                            "      <th>229</th>\n",
                            "      <td>0.44178</td>\n",
                            "      <td>0.0</td>\n",
                            "      <td>6.20</td>\n",
                            "      <td>0</td>\n",
                            "      <td>0.504</td>\n",
                            "      <td>6.552</td>\n",
                            "      <td>21.4</td>\n",
                            "      <td>3.3751</td>\n",
                            "      <td>8</td>\n",
                            "      <td>307</td>\n",
                            "      <td>17.4</td>\n",
                            "      <td>380.34</td>\n",
                            "      <td>3.76</td>\n",
                            "    </tr>\n",
                            "    <tr>\n",
                            "      <th>403</th>\n",
                            "      <td>24.80170</td>\n",
                            "      <td>0.0</td>\n",
                            "      <td>18.10</td>\n",
                            "      <td>0</td>\n",
                            "      <td>0.693</td>\n",
                            "      <td>5.349</td>\n",
                            "      <td>96.0</td>\n",
                            "      <td>1.7028</td>\n",
                            "      <td>24</td>\n",
                            "      <td>666</td>\n",
                            "      <td>20.2</td>\n",
                            "      <td>396.90</td>\n",
                            "      <td>19.77</td>\n",
                            "    </tr>\n",
                            "    <tr>\n",
                            "      <th>395</th>\n",
                            "      <td>8.71675</td>\n",
                            "      <td>0.0</td>\n",
                            "      <td>18.10</td>\n",
                            "      <td>0</td>\n",
                            "      <td>0.693</td>\n",
                            "      <td>6.471</td>\n",
                            "      <td>98.8</td>\n",
                            "      <td>1.7257</td>\n",
                            "      <td>24</td>\n",
                            "      <td>666</td>\n",
                            "      <td>20.2</td>\n",
                            "      <td>391.98</td>\n",
                            "      <td>17.12</td>\n",
                            "    </tr>\n",
                            "  </tbody>\n",
                            "</table>\n",
                            "</div>"
                        ],
                        "text/plain": [
                            "         CRIM    ZN  INDUS  CHAS    NOX     RM   AGE     DIS  RAD  TAX  \\\n",
                            "99    0.06860   0.0   2.89     0  0.445  7.416  62.5  3.4952    2  276   \n",
                            "54    0.01360  75.0   4.00     0  0.410  5.888  47.6  7.3197    3  469   \n",
                            "229   0.44178   0.0   6.20     0  0.504  6.552  21.4  3.3751    8  307   \n",
                            "403  24.80170   0.0  18.10     0  0.693  5.349  96.0  1.7028   24  666   \n",
                            "395   8.71675   0.0  18.10     0  0.693  6.471  98.8  1.7257   24  666   \n",
                            "\n",
                            "     PTRATIO       B  LSTAT  \n",
                            "99      18.0  396.90   6.19  \n",
                            "54      21.1  396.90  14.80  \n",
                            "229     17.4  380.34   3.76  \n",
                            "403     20.2  396.90  19.77  \n",
                            "395     20.2  391.98  17.12  "
                        ]
                    },
                    "execution_count": 552,
                    "metadata": {},
                    "output_type": "execute_result"
                }
            ],
            "source": [
                "# housing = strat_train_set.copy()\n",
                "housing.head()"
            ]
        },
        {
            "cell_type": "markdown",
            "metadata": {},
            "source": [
                "## Feature Scaling"
            ]
        },
        {
            "cell_type": "markdown",
            "metadata": {},
            "source": [
                "2 methods\n",
                "1. Min-max  =  (value-min)/(max-min)\n",
                "        \n",
                "        MinMaxScaler\n",
                "\n",
                "\n",
                "\n",
                "\n",
                "2. Standardization  =  (value-mean)/std. deviation\n",
                "        \n",
                "        result have variance 1\n",
                "        \n",
                "        StandardScaler"
            ]
        },
        {
            "cell_type": "markdown",
            "metadata": {},
            "source": [
                "## Creating Pipeline\n"
            ]
        },
        {
            "cell_type": "code",
            "execution_count": 553,
            "metadata": {},
            "outputs": [],
            "source": [
                "from sklearn.pipeline import Pipeline\n",
                "from sklearn.preprocessing import StandardScaler\n",
                "from sklearn.impute import SimpleImputer"
            ]
        },
        {
            "cell_type": "code",
            "execution_count": 554,
            "metadata": {},
            "outputs": [],
            "source": [
                "my_pipeline = Pipeline(\n",
                "    [\n",
                "        ('imputer', SimpleImputer(strategy = 'median')),\n",
                "        ('std_scaler', StandardScaler()),\n",
                "\n",
                "    ]\n",
                ")"
            ]
        },
        {
            "cell_type": "code",
            "execution_count": 555,
            "metadata": {},
            "outputs": [],
            "source": [
                "housing_num_tr = my_pipeline.fit_transform(housing)"
            ]
        },
        {
            "cell_type": "code",
            "execution_count": 556,
            "metadata": {},
            "outputs": [
                {
                    "data": {
                        "text/plain": [
                            "array([[-0.39839795, -0.49991153, -1.18946524, ..., -0.21092547,\n",
                            "         0.43247526, -0.90016071],\n",
                            "       [-0.40444957,  2.63488136, -1.0274113 , ...,  1.22630554,\n",
                            "         0.43247526,  0.32077193],\n",
                            "       [-0.3573371 , -0.49991153, -0.70622331, ..., -0.48909921,\n",
                            "         0.24218739, -1.24474448],\n",
                            "       ...,\n",
                            "       [ 0.66400162, -0.49991153,  1.03111176, ...,  0.80904492,\n",
                            "         0.30676576,  0.99008692],\n",
                            "       [-0.18476558, -0.49991153,  1.24718368, ..., -1.74088106,\n",
                            "         0.1153288 , -1.25325272],\n",
                            "       [-0.40072947, -0.49991153,  0.13032543, ...,  1.17994325,\n",
                            "         0.43247526, -0.66051191]])"
                        ]
                    },
                    "execution_count": 556,
                    "metadata": {},
                    "output_type": "execute_result"
                }
            ],
            "source": [
                "housing_num_tr"
            ]
        },
        {
            "cell_type": "code",
            "execution_count": 557,
            "metadata": {},
            "outputs": [
                {
                    "data": {
                        "text/plain": [
                            "(404, 13)"
                        ]
                    },
                    "execution_count": 557,
                    "metadata": {},
                    "output_type": "execute_result"
                }
            ],
            "source": [
                "housing_num_tr.shape"
            ]
        },
        {
            "cell_type": "markdown",
            "metadata": {},
            "source": [
                "## Selecting and training model\n"
            ]
        },
        {
            "cell_type": "markdown",
            "metadata": {},
            "source": [
                "### Linear Regression Model"
            ]
        },
        {
            "cell_type": "code",
            "execution_count": 558,
            "metadata": {},
            "outputs": [
                {
                    "data": {
                        "text/plain": [
                            "LinearRegression()"
                        ]
                    },
                    "execution_count": 558,
                    "metadata": {},
                    "output_type": "execute_result"
                }
            ],
            "source": [
                "from sklearn.linear_model import LinearRegression\n",
                "model = LinearRegression()\n",
                "model.fit(housing_num_tr,housing_labels)"
            ]
        },
        {
            "cell_type": "code",
            "execution_count": 559,
            "metadata": {},
            "outputs": [],
            "source": [
                "some_data = housing.iloc[:5]"
            ]
        },
        {
            "cell_type": "code",
            "execution_count": 560,
            "metadata": {},
            "outputs": [],
            "source": [
                "some_labels = housing_labels.iloc[:5]"
            ]
        },
        {
            "cell_type": "code",
            "execution_count": 561,
            "metadata": {},
            "outputs": [],
            "source": [
                "prepared_data = my_pipeline.transform(some_data)"
            ]
        },
        {
            "cell_type": "code",
            "execution_count": 562,
            "metadata": {},
            "outputs": [
                {
                    "data": {
                        "text/plain": [
                            "array([32.43616955, 15.32694323, 31.40612192, 12.2987463 , 19.8231572 ])"
                        ]
                    },
                    "execution_count": 562,
                    "metadata": {},
                    "output_type": "execute_result"
                }
            ],
            "source": [
                "model.predict(prepared_data)"
            ]
        },
        {
            "cell_type": "code",
            "execution_count": 563,
            "metadata": {},
            "outputs": [
                {
                    "data": {
                        "text/plain": [
                            "array([33.2, 18.9, 31.5,  8.3, 13.1])"
                        ]
                    },
                    "execution_count": 563,
                    "metadata": {},
                    "output_type": "execute_result"
                }
            ],
            "source": [
                "np.array(some_labels)"
            ]
        },
        {
            "cell_type": "markdown",
            "metadata": {},
            "source": [
                "#### Evaluating The linear model"
            ]
        },
        {
            "cell_type": "code",
            "execution_count": 564,
            "metadata": {},
            "outputs": [],
            "source": [
                "from sklearn.metrics import mean_squared_error\n",
                "housing_predictions = model.predict(housing_num_tr)\n",
                "lin_mse = mean_squared_error(housing_labels, housing_predictions)\n",
                "lin_rmse = np.sqrt(lin_mse)"
            ]
        },
        {
            "cell_type": "code",
            "execution_count": 565,
            "metadata": {},
            "outputs": [
                {
                    "data": {
                        "text/plain": [
                            "4.5651293129991775"
                        ]
                    },
                    "execution_count": 565,
                    "metadata": {},
                    "output_type": "execute_result"
                }
            ],
            "source": [
                "lin_rmse"
            ]
        },
        {
            "cell_type": "markdown",
            "metadata": {},
            "source": [
                "#### trying cross-validation for linear regression model"
            ]
        },
        {
            "cell_type": "code",
            "execution_count": 566,
            "metadata": {},
            "outputs": [],
            "source": [
                "from sklearn.model_selection import cross_val_score\n",
                "scores = cross_val_score(model, housing_num_tr, housing_labels, scoring = 'neg_mean_squared_error', cv=10)\n",
                "rmse_scores = np.sqrt(-scores)"
            ]
        },
        {
            "cell_type": "code",
            "execution_count": 567,
            "metadata": {},
            "outputs": [
                {
                    "data": {
                        "text/plain": [
                            "array([4.84662578, 4.29648839, 5.80216893, 3.61091834, 4.2034101 ,\n",
                            "       5.59510099, 4.29958815, 5.4056491 , 4.27468252, 5.19564507])"
                        ]
                    },
                    "execution_count": 567,
                    "metadata": {},
                    "output_type": "execute_result"
                }
            ],
            "source": [
                "rmse_scores"
            ]
        },
        {
            "cell_type": "code",
            "execution_count": 568,
            "metadata": {},
            "outputs": [],
            "source": [
                "def print_score(scores):\n",
                "    print(\"Scores\",scores)\n",
                "    print(\"Mean:\", scores.mean())\n",
                "    print(\"Std. Deviation:\",scores.std())"
            ]
        },
        {
            "cell_type": "code",
            "execution_count": 569,
            "metadata": {},
            "outputs": [
                {
                    "name": "stdout",
                    "output_type": "stream",
                    "text": [
                        "Scores [4.84662578 4.29648839 5.80216893 3.61091834 4.2034101  5.59510099\n",
                        " 4.29958815 5.4056491  4.27468252 5.19564507]\n",
                        "Mean: 4.75302773529039\n",
                        "Std. Deviation: 0.6848148036681116\n"
                    ]
                }
            ],
            "source": [
                "print_score(rmse_scores)"
            ]
        },
        {
            "cell_type": "markdown",
            "metadata": {},
            "source": [
                "### Decision Treee Regressor Model"
            ]
        },
        {
            "cell_type": "code",
            "execution_count": 570,
            "metadata": {},
            "outputs": [],
            "source": [
                "from sklearn.tree import DecisionTreeRegressor\n",
                "model = DecisionTreeRegressor()"
            ]
        },
        {
            "cell_type": "markdown",
            "metadata": {},
            "source": [
                "#### Repeating steps from above!"
            ]
        },
        {
            "cell_type": "code",
            "execution_count": 571,
            "metadata": {},
            "outputs": [],
            "source": [
                "model.fit(housing_num_tr,housing_labels)\n",
                "some_data = housing.iloc[:5]\n",
                "some_labels = housing_labels.iloc[:5]\n",
                "prepared_data = my_pipeline.transform(some_data)\n",
                "prepared_data = my_pipeline.transform(some_data)\n",
                "model.predict(prepared_data)\n",
                "np.array(some_labels)\n",
                "housing_predictions = model.predict(housing_num_tr)\n",
                "mse = mean_squared_error(housing_labels, housing_predictions)\n",
                "rmse = np.sqrt(mse)"
            ]
        },
        {
            "cell_type": "code",
            "execution_count": 572,
            "metadata": {},
            "outputs": [
                {
                    "data": {
                        "text/plain": [
                            "0.0"
                        ]
                    },
                    "execution_count": 572,
                    "metadata": {},
                    "output_type": "execute_result"
                }
            ],
            "source": [
                "mse"
            ]
        },
        {
            "cell_type": "markdown",
            "metadata": {},
            "source": [
                "👆🏻 This is over fitting as this is giving error as 0.00"
            ]
        },
        {
            "cell_type": "markdown",
            "metadata": {},
            "source": [
                "Using better evaluating technique\n",
                "using Cross validation"
            ]
        },
        {
            "cell_type": "code",
            "execution_count": 573,
            "metadata": {},
            "outputs": [],
            "source": [
                "from sklearn.model_selection import cross_val_score\n",
                "scores = cross_val_score(model, housing_num_tr, housing_labels, scoring = 'neg_mean_squared_error', cv=10)\n",
                "rmse_scores = np.sqrt(-scores)"
            ]
        },
        {
            "cell_type": "code",
            "execution_count": 574,
            "metadata": {},
            "outputs": [
                {
                    "data": {
                        "text/plain": [
                            "array([4.25595709, 3.59772964, 7.90495368, 3.74276538, 3.47044666,\n",
                            "       3.07619895, 6.2480797 , 3.04963113, 4.60667993, 4.03627303])"
                        ]
                    },
                    "execution_count": 574,
                    "metadata": {},
                    "output_type": "execute_result"
                }
            ],
            "source": [
                "rmse_scores"
            ]
        },
        {
            "cell_type": "code",
            "execution_count": 575,
            "metadata": {},
            "outputs": [],
            "source": [
                "def print_score(scores):\n",
                "    print(\"Scores\",scores)\n",
                "    print(\"Mean:\", scores.mean())\n",
                "    print(\"Std. Deviation:\",scores.std())"
            ]
        },
        {
            "cell_type": "code",
            "execution_count": 576,
            "metadata": {},
            "outputs": [
                {
                    "name": "stdout",
                    "output_type": "stream",
                    "text": [
                        "Scores [4.25595709 3.59772964 7.90495368 3.74276538 3.47044666 3.07619895\n",
                        " 6.2480797  3.04963113 4.60667993 4.03627303]\n",
                        "Mean: 4.398871518955447\n",
                        "Std. Deviation: 1.4632654657092234\n"
                    ]
                }
            ],
            "source": [
                "print_score(rmse_scores)"
            ]
        },
        {
            "cell_type": "markdown",
            "metadata": {},
            "source": [
                "### Random Forest Model"
            ]
        },
        {
            "cell_type": "code",
            "execution_count": 578,
            "metadata": {},
            "outputs": [],
            "source": [
                "from sklearn.ensemble import RandomForestRegressor\n",
                "model = RandomForestRegressor()"
            ]
        },
        {
            "cell_type": "code",
            "execution_count": 579,
            "metadata": {},
            "outputs": [],
            "source": [
                "model.fit(housing_num_tr,housing_labels)\n",
                "some_data = housing.iloc[:5]\n",
                "some_labels = housing_labels.iloc[:5]\n",
                "prepared_data = my_pipeline.transform(some_data)\n",
                "prepared_data = my_pipeline.transform(some_data)\n",
                "model.predict(prepared_data)\n",
                "np.array(some_labels)\n",
                "housing_predictions = model.predict(housing_num_tr)\n",
                "mse = mean_squared_error(housing_labels, housing_predictions)\n",
                "rmse = np.sqrt(mse)"
            ]
        },
        {
            "cell_type": "code",
            "execution_count": 580,
            "metadata": {},
            "outputs": [
                {
                    "data": {
                        "text/plain": [
                            "1.4082687896039607"
                        ]
                    },
                    "execution_count": 580,
                    "metadata": {},
                    "output_type": "execute_result"
                }
            ],
            "source": [
                "mse"
            ]
        },
        {
            "cell_type": "code",
            "execution_count": 581,
            "metadata": {},
            "outputs": [],
            "source": [
                "from sklearn.model_selection import cross_val_score\n",
                "scores = cross_val_score(model, housing_num_tr, housing_labels, scoring = 'neg_mean_squared_error', cv=10)\n",
                "rmse_scores = np.sqrt(-scores)"
            ]
        },
        {
            "cell_type": "code",
            "execution_count": 582,
            "metadata": {},
            "outputs": [
                {
                    "data": {
                        "text/plain": [
                            "array([3.97163408, 3.02724364, 5.64984306, 2.96171343, 2.35148276,\n",
                            "       2.95358894, 3.41161558, 2.44944102, 2.06300325, 3.21623634])"
                        ]
                    },
                    "execution_count": 582,
                    "metadata": {},
                    "output_type": "execute_result"
                }
            ],
            "source": [
                "rmse_scores"
            ]
        },
        {
            "cell_type": "code",
            "execution_count": 583,
            "metadata": {},
            "outputs": [],
            "source": [
                "def print_score(scores):\n",
                "    print(\"Scores\",scores)\n",
                "    print(\"Mean:\", scores.mean())\n",
                "    print(\"Std. Deviation:\",scores.std())"
            ]
        },
        {
            "cell_type": "code",
            "execution_count": 584,
            "metadata": {},
            "outputs": [
                {
                    "name": "stdout",
                    "output_type": "stream",
                    "text": [
                        "Scores [3.97163408 3.02724364 5.64984306 2.96171343 2.35148276 2.95358894\n",
                        " 3.41161558 2.44944102 2.06300325 3.21623634]\n",
                        "Mean: 3.2055802119505286\n",
                        "Std. Deviation: 0.9677452718637336\n"
                    ]
                }
            ],
            "source": [
                "print_score(rmse_scores)"
            ]
        },
        {
            "cell_type": "code",
            "execution_count": null,
            "metadata": {},
            "outputs": [],
            "source": []
        }
    ],
    "metadata": {
        "interpreter": {
            "hash": "6deaf1882042c52b9df25bbaf71d6a6fa524c27aa35d68a9bf0f56ba878308a5"
        },
        "kernelspec": {
            "display_name": "Python 3.8.6 64-bit ('vaiml': conda)",
            "name": "python3"
        },
        "language_info": {
            "codemirror_mode": {
                "name": "ipython",
                "version": 3
            },
            "file_extension": ".py",
            "mimetype": "text/x-python",
            "name": "python",
            "nbconvert_exporter": "python",
            "pygments_lexer": "ipython3",
            "version": "3.8.6"
        },
        "orig_nbformat": 4
    },
    "nbformat": 4,
    "nbformat_minor": 2
}
